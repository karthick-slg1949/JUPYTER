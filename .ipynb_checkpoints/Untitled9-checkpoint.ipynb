{
 "cells": [
  {
   "cell_type": "code",
   "execution_count": 2,
   "id": "b4760107-9d07-4ba3-a894-927f8894c064",
   "metadata": {},
   "outputs": [
    {
     "name": "stdout",
     "output_type": "stream",
     "text": [
      "<class 'tuple'>\n",
      "<class 'int'>\n",
      "<class 'tuple'>\n",
      "<class 'tuple'>\n",
      "<class 'tuple'>\n"
     ]
    }
   ],
   "source": [
    "t1=()\n",
    "t2=10\n",
    "t3=10,20,30,40\n",
    "t4=(10,20,30,40)\n",
    "t5=tuple(range(10))\n",
    "\n",
    "print(type(t1))\n",
    "print(type(t2))\n",
    "print(type(t3))\n",
    "print(type(t4))\n",
    "print(type(t5))"
   ]
  },
  {
   "cell_type": "code",
   "execution_count": 8,
   "id": "831cee86-d5f4-41ac-9c52-63d619734a3c",
   "metadata": {},
   "outputs": [
    {
     "name": "stdout",
     "output_type": "stream",
     "text": [
      "karthick\n"
     ]
    }
   ],
   "source": [
    "enames=(\"karthick\",\"dinesh\",\"satheesh\",\"arun\",\"vikram\",\"navin\")\n",
    "#index     0         1         2          3      4        5\n",
    "#access the tuple elements -indexing\n",
    "print(enames[0])"
   ]
  },
  {
   "cell_type": "code",
   "execution_count": 10,
   "id": "44b22362-6c6e-4c45-b40e-02de4c227629",
   "metadata": {},
   "outputs": [
    {
     "name": "stdout",
     "output_type": "stream",
     "text": [
      "karthick\n",
      "dinesh\n",
      "satheesh\n",
      "arun\n",
      "vikram\n"
     ]
    }
   ],
   "source": [
    "enames=(\"karthick\",\"dinesh\",\"satheesh\",\"arun\",\"vikram\")\n",
    "#index     0         1         2          3      4\n",
    "#iterate tuple object using for and while loop\n",
    "                           ----     ----------\n",
    "i=0\n",
    "while i<=len(enames)-1:\n",
    "    print(enames[i])\n",
    "    i=i+1"
   ]
  },
  {
   "cell_type": "code",
   "execution_count": 11,
   "id": "a66fbe2a-6387-4520-9a1c-9d7d063fb589",
   "metadata": {},
   "outputs": [
    {
     "name": "stdout",
     "output_type": "stream",
     "text": [
      "('jan', 'feb', 'mar', 'apr', 'may', 'june', 'july', 'aug', 'sep', 'oct', 'nov', 'dec')\n"
     ]
    }
   ],
   "source": [
    "Months=(\"jan\",\"feb\",\"mar\",\"apr\",\"may\",\"june\",\"july\",\"aug\",\"sep\",\"oct\",\"nov\",\"dec\")\n",
    "print(Months)"
   ]
  },
  {
   "cell_type": "code",
   "execution_count": 24,
   "id": "31613456-0677-417d-9f16-f1a4d9c7f937",
   "metadata": {},
   "outputs": [
    {
     "name": "stdout",
     "output_type": "stream",
     "text": [
      "['arun', 'dinesh', 'karthick', 'navin', 'satheesh', 'vikram']\n",
      "<class 'list'>\n",
      "('arun', 'dinesh', 'karthick', 'navin', 'satheesh', 'vikram')\n",
      "('karthick', 'dinesh', 'satheesh', 'arun', 'vikram', 'navin')\n",
      "<class 'tuple'>\n"
     ]
    }
   ],
   "source": [
    "enames=(\"karthick\",\"dinesh\",\"satheesh\",\"arun\",\"vikram\",\"navin\")\n",
    "#index     0         1         2          3      4        5\n",
    "\n",
    "new_enames=sorted(enames)\n",
    "print(new_enames)\n",
    "print(type(new_enames))\n",
    "\n",
    "print(tuple(new_enames))\n",
    "print(enames)\n",
    "print(type(enames))"
   ]
  },
  {
   "cell_type": "code",
   "execution_count": 25,
   "id": "7a0bfc59-8330-4cdc-897c-1f42d975cfba",
   "metadata": {},
   "outputs": [
    {
     "name": "stdout",
     "output_type": "stream",
     "text": [
      "4\n"
     ]
    }
   ],
   "source": [
    "enames=(\"karthick\",\"dinesh\",\"satheesh\",\"arun\",\"vikram\",\"navin\")\n",
    "#index     0         1         2          3      4        5\n",
    "\n",
    "print(enames.index('vikram'))"
   ]
  },
  {
   "cell_type": "code",
   "execution_count": 27,
   "id": "fc0bc637-c091-48b1-b14c-ebb300497dce",
   "metadata": {},
   "outputs": [
    {
     "name": "stdout",
     "output_type": "stream",
     "text": [
      "2\n"
     ]
    }
   ],
   "source": [
    "enames=(\"karthick\",\"dinesh\",\"vikram\",\"satheesh\",\"arun\",\"vikram\",\"navin\")\n",
    "#index     0         1         2          3      4        5\n",
    "\n",
    "print(enames.count('vikram'))"
   ]
  },
  {
   "cell_type": "code",
   "execution_count": null,
   "id": "d446d058-86aa-4144-805e-4bc3a49393b6",
   "metadata": {},
   "outputs": [],
   "source": [
    "t1=(10,20,30)\n",
    "t2="
   ]
  }
 ],
 "metadata": {
  "kernelspec": {
   "display_name": "Python 3 (ipykernel)",
   "language": "python",
   "name": "python3"
  },
  "language_info": {
   "codemirror_mode": {
    "name": "ipython",
    "version": 3
   },
   "file_extension": ".py",
   "mimetype": "text/x-python",
   "name": "python",
   "nbconvert_exporter": "python",
   "pygments_lexer": "ipython3",
   "version": "3.12.5"
  }
 },
 "nbformat": 4,
 "nbformat_minor": 5
}
