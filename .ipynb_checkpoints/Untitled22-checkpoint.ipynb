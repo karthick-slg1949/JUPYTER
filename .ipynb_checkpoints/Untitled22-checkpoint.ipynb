{
 "cells": [
  {
   "cell_type": "code",
   "execution_count": 2,
   "id": "2373c06f-6320-4dc0-9544-ff7f59da68ce",
   "metadata": {},
   "outputs": [
    {
     "name": "stdout",
     "output_type": "stream",
     "text": [
      "{\n",
      "    \"eid\":\"101\",\n",
      "    \"ename\":\"Rahul\",\n",
      "    \"avail\":true,\n",
      "    \"loc\":\"undefined\",\n",
      "    \"esal\":null\n",
      "}\n",
      "<class 'dict'>\n",
      "{'eid': '101', 'ename': 'Rahul', 'avail': True, 'loc': 'undefined', 'esal': None}\n"
     ]
    }
   ],
   "source": [
    "import json \n",
    "emp_json='''{\n",
    "    \"eid\":\"101\",\n",
    "    \"ename\":\"Rahul\",\n",
    "    \"avail\":true,\n",
    "    \"loc\":\"undefined\",\n",
    "    \"esal\":null\n",
    "}'''\n",
    "print(emp_json)\n",
    "emp_dict=json.loads(emp_json)\n",
    "print(type(emp_dict))  #<class,dict>\n",
    "print(emp_dict)"
   ]
  },
  {
   "cell_type": "code",
   "execution_count": 6,
   "id": "4b3598ae-cfdf-4b4b-8e4d-9e27453921df",
   "metadata": {},
   "outputs": [
    {
     "name": "stdout",
     "output_type": "stream",
     "text": [
      "['__doc__', '__loader__', '__name__', '__package__', '__spec__', 'acos', 'acosh', 'asin', 'asinh', 'atan', 'atan2', 'atanh', 'cbrt', 'ceil', 'comb', 'copysign', 'cos', 'cosh', 'degrees', 'dist', 'e', 'erf', 'erfc', 'exp', 'exp2', 'expm1', 'fabs', 'factorial', 'floor', 'fmod', 'frexp', 'fsum', 'gamma', 'gcd', 'hypot', 'inf', 'isclose', 'isfinite', 'isinf', 'isnan', 'isqrt', 'lcm', 'ldexp', 'lgamma', 'log', 'log10', 'log1p', 'log2', 'modf', 'nan', 'nextafter', 'perm', 'pi', 'pow', 'prod', 'radians', 'remainder', 'sin', 'sinh', 'sqrt', 'sumprod', 'tan', 'tanh', 'tau', 'trunc', 'ulp']\n"
     ]
    }
   ],
   "source": [
    "import math\n",
    "a=19\n",
    "b=90\n",
    "print(dir(math))"
   ]
  },
  {
   "cell_type": "code",
   "execution_count": 3,
   "id": "288c0650-0874-42b9-aac2-29c5ee03aa2b",
   "metadata": {},
   "outputs": [
    {
     "name": "stdin",
     "output_type": "stream",
     "text": [
      "enter the first number : 34\n",
      "enter the second number :  ten\n"
     ]
    },
    {
     "ename": "ValueError",
     "evalue": "invalid literal for int() with base 10: 'ten'",
     "output_type": "error",
     "traceback": [
      "\u001b[1;31m---------------------------------------------------------------------------\u001b[0m",
      "\u001b[1;31mValueError\u001b[0m                                Traceback (most recent call last)",
      "Cell \u001b[1;32mIn[3], line 2\u001b[0m\n\u001b[0;32m      1\u001b[0m a\u001b[38;5;241m=\u001b[39m\u001b[38;5;28mint\u001b[39m(\u001b[38;5;28minput\u001b[39m(\u001b[38;5;124m'\u001b[39m\u001b[38;5;124menter the first number :\u001b[39m\u001b[38;5;124m'\u001b[39m))\n\u001b[1;32m----> 2\u001b[0m b\u001b[38;5;241m=\u001b[39m\u001b[38;5;28;43mint\u001b[39;49m\u001b[43m(\u001b[49m\u001b[38;5;28;43minput\u001b[39;49m\u001b[43m(\u001b[49m\u001b[38;5;124;43m'\u001b[39;49m\u001b[38;5;124;43menter the second number : \u001b[39;49m\u001b[38;5;124;43m'\u001b[39;49m\u001b[43m)\u001b[49m\u001b[43m)\u001b[49m\n\u001b[0;32m      3\u001b[0m \u001b[38;5;28mprint\u001b[39m(a\u001b[38;5;241m/\u001b[39mb)\n\u001b[0;32m      4\u001b[0m \u001b[38;5;28mprint\u001b[39m(\u001b[38;5;124m'\u001b[39m\u001b[38;5;124mgm\u001b[39m\u001b[38;5;124m'\u001b[39m)\n",
      "\u001b[1;31mValueError\u001b[0m: invalid literal for int() with base 10: 'ten'"
     ]
    }
   ],
   "source": [
    "a=int(input('enter the first number :'))\n",
    "b=int(input('enter the second number : '))\n",
    "print(a/b)\n",
    "print('gm')"
   ]
  },
  {
   "cell_type": "code",
   "execution_count": 4,
   "id": "419a4320-23b4-4d99-8fe4-b245a762a2ce",
   "metadata": {},
   "outputs": [
    {
     "name": "stdout",
     "output_type": "stream",
     "text": [
      "gm\n"
     ]
    }
   ],
   "source": [
    "try:\n",
    "    pass\n",
    "except:\n",
    "    pass\n",
    "print('gm')"
   ]
  },
  {
   "cell_type": "code",
   "execution_count": 12,
   "id": "4d88a703-cef6-40ed-bb4a-6c8ab27d3bf8",
   "metadata": {},
   "outputs": [
    {
     "name": "stdin",
     "output_type": "stream",
     "text": [
      "entre the first number : 34\n",
      "enter the second number : ten\n"
     ]
    },
    {
     "name": "stdout",
     "output_type": "stream",
     "text": [
      "34.0\n",
      "gm\n"
     ]
    }
   ],
   "source": [
    "try:\n",
    "    a=int(input('enter the first number :'))\n",
    "    b=int(input('enter the second number :'))\n",
    "    print(a/b)\n",
    "except:\n",
    "    print(a/1)\n",
    "    print('gm')\n",
    "    "
   ]
  },
  {
   "cell_type": "code",
   "execution_count": 4,
   "id": "4b27bfe3-ef95-4fd0-a3ed-83e6a20fd52e",
   "metadata": {},
   "outputs": [
    {
     "name": "stdout",
     "output_type": "stream",
     "text": [
      "1722918000000\n",
      "1722930128096\n",
      "1722894697152\n",
      "{}\n",
      "{}\n",
      "{}\n",
      "{'__module__': '__main__', 'location_id': 'B101', '__dict__': <attribute '__dict__' of 'Employee' objects>, '__weakref__': <attribute '__weakref__' of 'Employee' objects>, '__doc__': None}\n"
     ]
    }
   ],
   "source": [
    "class Employee:\n",
    "    location_id='B101'\n",
    "    \n",
    "e1=Employee()\n",
    "e2=Employee()\n",
    "e3=Employee()\n",
    "print(id(e1))\n",
    "print(id(e2))\n",
    "print(id(e3))\n",
    "print(e1.__dict__)\n",
    "print(e2.__dict__)\n",
    "print(e3.__dict__)\n",
    "print(Employee.__dict__)"
   ]
  },
  {
   "cell_type": "code",
   "execution_count": 6,
   "id": "f16f20d7-d958-4973-8fba-2907d84edc2c",
   "metadata": {},
   "outputs": [
    {
     "name": "stdout",
     "output_type": "stream",
     "text": [
      "{}\n",
      "{}\n",
      "{'__module__': '__main__', 'min_bal': 500, '__dict__': <attribute '__dict__' of 'Account' objects>, '__weakref__': <attribute '__weakref__' of 'Account' objects>, '__doc__': None}\n",
      "{}\n"
     ]
    }
   ],
   "source": [
    "class Account:\n",
    "    min_bal=500\n",
    "\n",
    "def open_Account(self):\n",
    "    print('Account open successfully')\n",
    "@classmethod\n",
    "def m2(cls):\n",
    "    pass\n",
    "@staticmethod\n",
    "def m3():\n",
    "    pass\n",
    "\n",
    "a1=Account()\n",
    "a2=Account()\n",
    "print(a1.__dict__)\n",
    "print(a2.__dict__)\n",
    "print(Account.__dict__)\n",
    "#what class contained:variables and Methods\n"
   ]
  },
  {
   "cell_type": "code",
   "execution_count": 8,
   "id": "3208555e-a45c-495e-a115-6048f3ae7f3f",
   "metadata": {},
   "outputs": [],
   "source": [
    "class Account:\n",
    "    def deposit(self):\n",
    "        pass\n",
    "\n",
    "a1=Account\n",
    "a1.deposit(899)"
   ]
  },
  {
   "cell_type": "code",
   "execution_count": 17,
   "id": "3698d000-9584-4cfe-b09e-4cb8d41fcdd5",
   "metadata": {},
   "outputs": [
    {
     "name": "stdout",
     "output_type": "stream",
     "text": [
      "{}\n",
      "{}\n",
      "{'acc_bal': 7888}\n",
      "{'acc_bal': 9999}\n"
     ]
    }
   ],
   "source": [
    "class Account:\n",
    "    acc_bal=0\n",
    "    def deposite_amount(self,amount):\n",
    "        self.acc_bal=self.acc_bal+amount\n",
    "a1=Account()\n",
    "a2=Account()\n",
    "print(a1.__dict__)\n",
    "print(a2.__dict__)\n",
    "\n",
    "a1.deposite_amount(7888)\n",
    "a2.deposite_amount(9999)\n",
    "print(a1.__dict__)\n",
    "print(a2.__dict__)"
   ]
  },
  {
   "cell_type": "code",
   "execution_count": null,
   "id": "241472b9-13cd-4afe-b4e4-31762bc1c7a5",
   "metadata": {},
   "outputs": [],
   "source": []
  }
 ],
 "metadata": {
  "kernelspec": {
   "display_name": "Python 3 (ipykernel)",
   "language": "python",
   "name": "python3"
  },
  "language_info": {
   "codemirror_mode": {
    "name": "ipython",
    "version": 3
   },
   "file_extension": ".py",
   "mimetype": "text/x-python",
   "name": "python",
   "nbconvert_exporter": "python",
   "pygments_lexer": "ipython3",
   "version": "3.12.5"
  }
 },
 "nbformat": 4,
 "nbformat_minor": 5
}
