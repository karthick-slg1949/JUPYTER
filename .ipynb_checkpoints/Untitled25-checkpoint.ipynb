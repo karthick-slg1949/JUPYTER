{
 "cells": [
  {
   "cell_type": "code",
   "execution_count": 2,
   "id": "e6235725-6f79-49bf-a404-51b1b656b4ba",
   "metadata": {},
   "outputs": [
    {
     "name": "stdout",
     "output_type": "stream",
     "text": [
      "GM\n"
     ]
    }
   ],
   "source": [
    "class TypeError(Exception):\n",
    "    def __init__(self,msg):\n",
    "        self.msg=msg\n",
    "def Testcase():\n",
    "    if True:\n",
    "        print('GM')\n",
    "    else:\n",
    "        print('GN')\n",
    "Testcase()"
   ]
  },
  {
   "cell_type": "code",
   "execution_count": 7,
   "id": "247fa31f-5061-43df-adba-1063d204ce84",
   "metadata": {},
   "outputs": [
    {
     "name": "stdout",
     "output_type": "stream",
     "text": [
      "Handling Error\n"
     ]
    }
   ],
   "source": [
    "class TestError(Exception):\n",
    "    def __init__(self,msg):\n",
    "        self.msg=msg\n",
    "def Testcase():\n",
    "    if False:\n",
    "        print('GM')\n",
    "    else:\n",
    "        try:\n",
    "            raise TestError('TestError....')\n",
    "        except TestError as err:\n",
    "            print(\"Handling Error\")\n",
    "            \n",
    "Testcase()"
   ]
  },
  {
   "cell_type": "code",
   "execution_count": 9,
   "id": "7a832fbe-19f5-4e01-bcd2-acb41f686a41",
   "metadata": {},
   "outputs": [
    {
     "ename": "ZeroDivisionError",
     "evalue": "Kalki MOvie",
     "output_type": "error",
     "traceback": [
      "\u001b[1;31m---------------------------------------------------------------------------\u001b[0m",
      "\u001b[1;31mZeroDivisionError\u001b[0m                         Traceback (most recent call last)",
      "Cell \u001b[1;32mIn[9], line 1\u001b[0m\n\u001b[1;32m----> 1\u001b[0m \u001b[38;5;28;01mraise\u001b[39;00m \u001b[38;5;167;01mZeroDivisionError\u001b[39;00m(\u001b[38;5;124m\"\u001b[39m\u001b[38;5;124mKalki MOvie\u001b[39m\u001b[38;5;124m\"\u001b[39m)\n\u001b[0;32m      2\u001b[0m \u001b[38;5;28mprint\u001b[39m(\u001b[38;5;124m\"\u001b[39m\u001b[38;5;124mGM\u001b[39m\u001b[38;5;124m\"\u001b[39m)\n",
      "\u001b[1;31mZeroDivisionError\u001b[0m: Kalki MOvie"
     ]
    }
   ],
   "source": [
    "raise ZeroDivisionError(\"Kalki MOvie\")\n",
    "print(\"GM\")"
   ]
  },
  {
   "cell_type": "code",
   "execution_count": 11,
   "id": "e7a97d2f-adcd-4c1c-81c6-1d11dfa5cd36",
   "metadata": {},
   "outputs": [
    {
     "ename": "ZeroDivisionError",
     "evalue": "division by zero",
     "output_type": "error",
     "traceback": [
      "\u001b[1;31m---------------------------------------------------------------------------\u001b[0m",
      "\u001b[1;31mZeroDivisionError\u001b[0m                         Traceback (most recent call last)",
      "Cell \u001b[1;32mIn[11], line 1\u001b[0m\n\u001b[1;32m----> 1\u001b[0m \u001b[38;5;28mprint\u001b[39m(\u001b[38;5;241;43m10\u001b[39;49m\u001b[38;5;241;43m/\u001b[39;49m\u001b[38;5;241;43m0\u001b[39;49m)\n\u001b[0;32m      2\u001b[0m \u001b[38;5;28mprint\u001b[39m(\u001b[38;5;124m\"\u001b[39m\u001b[38;5;124mFOLLOW\u001b[39m\u001b[38;5;124m\"\u001b[39m)\n",
      "\u001b[1;31mZeroDivisionError\u001b[0m: division by zero"
     ]
    }
   ],
   "source": [
    "print(10/0)\n",
    "print(\"FOLLOW\")"
   ]
  },
  {
   "cell_type": "code",
   "execution_count": 14,
   "id": "4f632fbf-dfc6-49d8-a4a7-cbb477286a93",
   "metadata": {},
   "outputs": [
    {
     "ename": "InsufficientBalError",
     "evalue": "Low Balance",
     "output_type": "error",
     "traceback": [
      "\u001b[1;31m---------------------------------------------------------------------------\u001b[0m",
      "\u001b[1;31mInsufficientBalError\u001b[0m                      Traceback (most recent call last)",
      "Cell \u001b[1;32mIn[14], line 5\u001b[0m\n\u001b[0;32m      3\u001b[0m         \u001b[38;5;28mself\u001b[39m\u001b[38;5;241m.\u001b[39mmsg\u001b[38;5;241m=\u001b[39mmsg\n\u001b[0;32m      4\u001b[0m \u001b[38;5;66;03m# raise ZeroDivisionError(\"Can't Divisible by zero\")\u001b[39;00m\n\u001b[1;32m----> 5\u001b[0m \u001b[38;5;28;01mraise\u001b[39;00m InsufficientBalError(\u001b[38;5;124m\"\u001b[39m\u001b[38;5;124mLow Balance\u001b[39m\u001b[38;5;124m\"\u001b[39m)\n\u001b[0;32m      6\u001b[0m \u001b[38;5;28mprint\u001b[39m(\u001b[38;5;124m\"\u001b[39m\u001b[38;5;124mgm\u001b[39m\u001b[38;5;124m\"\u001b[39m)\n",
      "\u001b[1;31mInsufficientBalError\u001b[0m: Low Balance"
     ]
    }
   ],
   "source": [
    "class InsufficientBalError(Exception):\n",
    "    def __init__(self,msg):\n",
    "        self.msg=msg\n",
    "# raise ZeroDivisionError(\"Can't Divisible by zero\")\n",
    "raise InsufficientBalError(\"Low Balance\")\n",
    "print(\"gm\")"
   ]
  },
  {
   "cell_type": "code",
   "execution_count": null,
   "id": "679e4fc2-ecb8-49d5-84ab-e641423a1973",
   "metadata": {},
   "outputs": [],
   "source": []
  }
 ],
 "metadata": {
  "kernelspec": {
   "display_name": "Python 3 (ipykernel)",
   "language": "python",
   "name": "python3"
  },
  "language_info": {
   "codemirror_mode": {
    "name": "ipython",
    "version": 3
   },
   "file_extension": ".py",
   "mimetype": "text/x-python",
   "name": "python",
   "nbconvert_exporter": "python",
   "pygments_lexer": "ipython3",
   "version": "3.12.5"
  }
 },
 "nbformat": 4,
 "nbformat_minor": 5
}
