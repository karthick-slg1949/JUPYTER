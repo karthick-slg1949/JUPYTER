{
 "cells": [
  {
   "cell_type": "code",
   "execution_count": 11,
   "id": "ec7a8b9d-3246-4525-be0d-2a0d69464fc7",
   "metadata": {},
   "outputs": [
    {
     "name": "stdout",
     "output_type": "stream",
     "text": [
      "5.0\n",
      "3.3333333333333335\n"
     ]
    }
   ],
   "source": [
    "def calc(a,b):\n",
    "    print(a/b)\n",
    "calc(10,2)\n",
    "calc(10,3)"
   ]
  },
  {
   "cell_type": "code",
   "execution_count": 3,
   "id": "d340351c-d797-4f3f-82b7-3ac4381aae5d",
   "metadata": {},
   "outputs": [
    {
     "name": "stdout",
     "output_type": "stream",
     "text": [
      "5.0\n",
      "can not divide by zero\n"
     ]
    }
   ],
   "source": [
    "def testcase(func):\n",
    "    def inner(a,b):\n",
    "        if b==0:\n",
    "            print(\"can not divide by zero\")\n",
    "        else:\n",
    "            return func(a,b)\n",
    "    return inner\n",
    "@testcase\n",
    "def calc(a,b):\n",
    "    print(a/b)\n",
    "calc(10,2)\n",
    "calc(10,0)"
   ]
  },
  {
   "cell_type": "code",
   "execution_count": 14,
   "id": "734bd6be-3339-4993-ae59-6d403bcd86fc",
   "metadata": {},
   "outputs": [
    {
     "name": "stdout",
     "output_type": "stream",
     "text": [
      "home page\n",
      "about page\n",
      "login is required\n"
     ]
    }
   ],
   "source": [
    "def login_required(func):\n",
    "    def inner(name,is_login):\n",
    "        if is_login==False:\n",
    "            print('login is required')\n",
    "        else:\n",
    "            return func(name,is_login)\n",
    "    return inner\n",
    "        \n",
    "def home_page(name,is_login):\n",
    "    print('home page')\n",
    "@login_required\n",
    "def about_page(name,is_login):\n",
    "    print('about page')\n",
    "@login_required\n",
    "def order_page(name,is_login):\n",
    "    print('order page')\n",
    "home_page('karthi',False)\n",
    "about_page('karthi',True)\n",
    "order_page('karthi',False)"
   ]
  },
  {
   "cell_type": "code",
   "execution_count": 20,
   "id": "ebcc6e48-9c78-49f7-a3bc-ca71b1aaad1d",
   "metadata": {},
   "outputs": [
    {
     "data": {
      "text/plain": [
       "'Hi_HARISH'"
      ]
     },
     "execution_count": 20,
     "metadata": {},
     "output_type": "execute_result"
    }
   ],
   "source": [
    "def change_case(func):\n",
    "    def inner(name):\n",
    "        return 'Hi_'+name.upper()\n",
    "    return inner\n",
    "\n",
    "@change_case\n",
    "def display(name):\n",
    "    print(name)\n",
    "display('maharaja')\n",
    "display('harish')"
   ]
  },
  {
   "cell_type": "code",
   "execution_count": 1,
   "id": "d99f9678-f3e6-441a-95fc-9f76e25b6e3a",
   "metadata": {},
   "outputs": [
    {
     "name": "stdout",
     "output_type": "stream",
     "text": [
      "outer function\n"
     ]
    }
   ],
   "source": [
    "def outer():\n",
    "    print('outer function')\n",
    "outer()"
   ]
  },
  {
   "cell_type": "code",
   "execution_count": 2,
   "id": "e9aa602a-9ad8-420a-9d04-00971fd6a358",
   "metadata": {},
   "outputs": [
    {
     "name": "stdout",
     "output_type": "stream",
     "text": [
      "outer function\n",
      "inner function\n"
     ]
    }
   ],
   "source": [
    "def outer():\n",
    "    print(\"outer function\")\n",
    "    def inner():\n",
    "        print('inner function')\n",
    "    inner()\n",
    "outer()"
   ]
  },
  {
   "cell_type": "code",
   "execution_count": 3,
   "id": "9cb9efa7-8df0-43e8-91ff-ca098d573f53",
   "metadata": {},
   "outputs": [
    {
     "ename": "NameError",
     "evalue": "name 'inner' is not defined",
     "output_type": "error",
     "traceback": [
      "\u001b[1;31m---------------------------------------------------------------------------\u001b[0m",
      "\u001b[1;31mNameError\u001b[0m                                 Traceback (most recent call last)",
      "Cell \u001b[1;32mIn[3], line 5\u001b[0m\n\u001b[0;32m      3\u001b[0m     \u001b[38;5;28;01mdef\u001b[39;00m \u001b[38;5;21minner\u001b[39m():\n\u001b[0;32m      4\u001b[0m         \u001b[38;5;28mprint\u001b[39m(\u001b[38;5;124m'\u001b[39m\u001b[38;5;124minner function\u001b[39m\u001b[38;5;124m'\u001b[39m)\n\u001b[1;32m----> 5\u001b[0m \u001b[43minner\u001b[49m()\n\u001b[0;32m      6\u001b[0m outer()\n",
      "\u001b[1;31mNameError\u001b[0m: name 'inner' is not defined"
     ]
    }
   ],
   "source": [
    "def outer():\n",
    "    print(\"outer function\")\n",
    "    def inner():\n",
    "        print('inner function')\n",
    "inner()\n",
    "outer()"
   ]
  },
  {
   "cell_type": "code",
   "execution_count": 4,
   "id": "aac6ac30-e73a-448c-a2a0-25a560a6880c",
   "metadata": {},
   "outputs": [
    {
     "name": "stdout",
     "output_type": "stream",
     "text": [
      "outer function\n",
      "inner function\n",
      "inner function\n",
      "inner function\n"
     ]
    }
   ],
   "source": [
    "def outer():\n",
    "    print('outer function')\n",
    "    def inner():\n",
    "        print('inner function')\n",
    "    return inner\n",
    "inner=outer()\n",
    "inner()\n",
    "inner()\n",
    "inner()"
   ]
  },
  {
   "cell_type": "code",
   "execution_count": 5,
   "id": "7358aef0-dfdb-47e9-8b57-87cdf1425e2f",
   "metadata": {},
   "outputs": [
    {
     "name": "stdout",
     "output_type": "stream",
     "text": [
      "karthick\n",
      "dinesh\n"
     ]
    }
   ],
   "source": [
    "def display(name):\n",
    "    print(name)\n",
    "display('karthick')\n",
    "display('dinesh')"
   ]
  },
  {
   "cell_type": "code",
   "execution_count": 7,
   "id": "7e6ed68a-03e0-493a-91d2-cacfabd6dd46",
   "metadata": {},
   "outputs": [
    {
     "name": "stdout",
     "output_type": "stream",
     "text": [
      "2.0\n",
      "10.0\n",
      "gm\n"
     ]
    }
   ],
   "source": [
    "def calc(a,b):\n",
    "    print(a/b)\n",
    "calc(10,5)\n",
    "calc(10,1)\n",
    "print('gm')"
   ]
  },
  {
   "cell_type": "code",
   "execution_count": 1,
   "id": "adfd36af-8d59-4ad7-9221-8c4dcf9476fb",
   "metadata": {},
   "outputs": [
    {
     "name": "stdout",
     "output_type": "stream",
     "text": [
      "HiRAHUL\n",
      "HiYASIN\n",
      "HiPRIYA\n"
     ]
    }
   ],
   "source": [
    "def change_case(func):\n",
    "    def inner(name):\n",
    "        return func('Hi'+name.upper())\n",
    "    return inner\n",
    "\n",
    "@change_case\n",
    "def display(name):\n",
    "    print(name)\n",
    "\n",
    "display(\"rahul\")\n",
    "display(\"yasin\")\n",
    "display(\"priya\")"
   ]
  },
  {
   "cell_type": "code",
   "execution_count": null,
   "id": "cc9acab5-48b8-49cd-8e7a-41eec736c611",
   "metadata": {},
   "outputs": [],
   "source": []
  }
 ],
 "metadata": {
  "kernelspec": {
   "display_name": "Python 3 (ipykernel)",
   "language": "python",
   "name": "python3"
  },
  "language_info": {
   "codemirror_mode": {
    "name": "ipython",
    "version": 3
   },
   "file_extension": ".py",
   "mimetype": "text/x-python",
   "name": "python",
   "nbconvert_exporter": "python",
   "pygments_lexer": "ipython3",
   "version": "3.12.5"
  }
 },
 "nbformat": 4,
 "nbformat_minor": 5
}
