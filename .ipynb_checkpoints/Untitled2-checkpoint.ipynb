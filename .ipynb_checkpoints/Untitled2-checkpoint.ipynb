{
 "cells": [
  {
   "cell_type": "code",
   "execution_count": 6,
   "id": "1d0d6ed3-58bb-4819-ab22-60605d6731cf",
   "metadata": {},
   "outputs": [
    {
     "name": "stdout",
     "output_type": "stream",
     "text": [
      "[45, 87, 90]\n",
      "45\n",
      "87\n",
      "90\n"
     ]
    }
   ],
   "source": [
    "marks=[45,87,90]\n",
    "print(marks)\n",
    "\n",
    "print(marks[0])\n",
    "print(marks[1])\n",
    "print(marks[2])"
   ]
  },
  {
   "cell_type": "code",
   "execution_count": 11,
   "id": "937fd3b7-bfa8-4df4-bd53-0c3577f7a2fb",
   "metadata": {},
   "outputs": [
    {
     "name": "stdout",
     "output_type": "stream",
     "text": [
      "10\n",
      "20\n",
      "30\n",
      "255\n"
     ]
    }
   ],
   "source": [
    "l1=[10,20,30,255]\n",
    "b1=bytes(l1)\n",
    "for x in b1:\n",
    "    print(x)"
   ]
  },
  {
   "cell_type": "markdown",
   "id": "1cba2b08-59ce-4e10-aa70-cb96ecbc2cc6",
   "metadata": {},
   "source": [
    "marks=[100,200,300]\n",
    "print(marks)"
   ]
  },
  {
   "cell_type": "code",
   "execution_count": 15,
   "id": "64f3510c-3cba-450d-bbb1-c0d67713c9c4",
   "metadata": {},
   "outputs": [
    {
     "name": "stdout",
     "output_type": "stream",
     "text": [
      "b'd\\xc8\\xfa'\n"
     ]
    }
   ],
   "source": [
    "marks=[100,200,250]\n",
    "b=bytes(marks)\n",
    "print(b)"
   ]
  },
  {
   "cell_type": "code",
   "execution_count": 16,
   "id": "38dd056b-fbea-4a44-a614-2bc58605c673",
   "metadata": {},
   "outputs": [
    {
     "name": "stdout",
     "output_type": "stream",
     "text": [
      "<class 'list'>\n",
      "<class 'bytearray'>\n"
     ]
    }
   ],
   "source": [
    "#bytearray\n",
    "l1=[10,20,30]\n",
    "ba=bytearray(l1)\n",
    "print(type(l1))\n",
    "print(type(ba))"
   ]
  },
  {
   "cell_type": "code",
   "execution_count": 20,
   "id": "0f3b69e5-ad6e-4c75-84cc-f84f7c4b61c9",
   "metadata": {},
   "outputs": [
    {
     "name": "stdout",
     "output_type": "stream",
     "text": [
      "<class 'bytes'>\n",
      "<class 'bytearray'>\n"
     ]
    }
   ],
   "source": [
    "l1=[10,20,40,30]\n",
    "b=bytes(l1)\n",
    "ba=bytearray(l1)\n",
    "print(type(b))\n",
    "print(type(ba))\n"
   ]
  },
  {
   "cell_type": "code",
   "execution_count": 25,
   "id": "210e5bc4-faaf-48c2-9011-6f32d598bff7",
   "metadata": {},
   "outputs": [
    {
     "name": "stdout",
     "output_type": "stream",
     "text": [
      "90\n",
      "44\n",
      "89\n",
      "30\n",
      "40\n"
     ]
    }
   ],
   "source": [
    "#bytearray is mutable object\n",
    "l1=[90,44,89,30]\n",
    "b=bytes(l1)\n",
    "ba=bytearray(l1)\n",
    "ba.append(40)\n",
    "\n",
    "for ele in ba:\n",
    "    print(ele)"
   ]
  },
  {
   "cell_type": "code",
   "execution_count": 26,
   "id": "a43c16fe-c039-47af-b5c4-8d493a9e162e",
   "metadata": {},
   "outputs": [
    {
     "ename": "AttributeError",
     "evalue": "'tuple' object has no attribute 'clear'",
     "output_type": "error",
     "traceback": [
      "\u001b[1;31m---------------------------------------------------------------------------\u001b[0m",
      "\u001b[1;31mAttributeError\u001b[0m                            Traceback (most recent call last)",
      "Cell \u001b[1;32mIn[26], line 3\u001b[0m\n\u001b[0;32m      1\u001b[0m t\u001b[38;5;241m=\u001b[39m(\u001b[38;5;241m10\u001b[39m,\u001b[38;5;241m20\u001b[39m,\u001b[38;5;241m30\u001b[39m,\u001b[38;5;241m40\u001b[39m,\u001b[38;5;241m50\u001b[39m)\n\u001b[0;32m      2\u001b[0m s\u001b[38;5;241m=\u001b[39m(\u001b[38;5;241m50\u001b[39m,\u001b[38;5;241m60\u001b[39m,\u001b[38;5;241m90\u001b[39m)\n\u001b[1;32m----> 3\u001b[0m \u001b[43ms\u001b[49m\u001b[38;5;241;43m.\u001b[39;49m\u001b[43mclear\u001b[49m()\n",
      "\u001b[1;31mAttributeError\u001b[0m: 'tuple' object has no attribute 'clear'"
     ]
    }
   ],
   "source": [
    "t=(10,20,30,40,50)\n",
    "s=(50,60,90)\n",
    "s.clear()"
   ]
  },
  {
   "cell_type": "code",
   "execution_count": 31,
   "id": "5e0017d6-611d-4e54-ad20-441f6a198649",
   "metadata": {},
   "outputs": [
    {
     "name": "stdout",
     "output_type": "stream",
     "text": [
      "89\n",
      "38\n",
      "34\n",
      "55\n"
     ]
    }
   ],
   "source": [
    "l1=[89,38,34,55]\n",
    "\n",
    "b=bytes(l1)\n",
    "for ele in b:\n",
    "    print(ele)"
   ]
  },
  {
   "cell_type": "code",
   "execution_count": 1,
   "id": "155c61c9-3a1d-4078-9d64-57a488dcb93f",
   "metadata": {},
   "outputs": [
    {
     "name": "stdout",
     "output_type": "stream",
     "text": [
      "0b1010\n"
     ]
    }
   ],
   "source": [
    "print(bin(10))"
   ]
  },
  {
   "cell_type": "code",
   "execution_count": 2,
   "id": "c436a8bc-56f9-4cef-b880-5f400151797f",
   "metadata": {},
   "outputs": [
    {
     "name": "stdout",
     "output_type": "stream",
     "text": [
      "10\n"
     ]
    }
   ],
   "source": [
    "print(int(0b1010))"
   ]
  },
  {
   "cell_type": "code",
   "execution_count": null,
   "id": "061efb65-ad8b-43fd-b067-adeabe559a73",
   "metadata": {},
   "outputs": [],
   "source": []
  }
 ],
 "metadata": {
  "kernelspec": {
   "display_name": "Python 3 (ipykernel)",
   "language": "python",
   "name": "python3"
  },
  "language_info": {
   "codemirror_mode": {
    "name": "ipython",
    "version": 3
   },
   "file_extension": ".py",
   "mimetype": "text/x-python",
   "name": "python",
   "nbconvert_exporter": "python",
   "pygments_lexer": "ipython3",
   "version": "3.12.5"
  }
 },
 "nbformat": 4,
 "nbformat_minor": 5
}
