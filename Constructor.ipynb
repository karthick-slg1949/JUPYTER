{
 "cells": [
  {
   "cell_type": "code",
   "execution_count": 1,
   "id": "3105c3cb-20ce-4556-ac97-278f8a47ddf2",
   "metadata": {},
   "outputs": [
    {
     "name": "stdout",
     "output_type": "stream",
     "text": [
      "Test class - Constructor Method\n",
      "Test class - Constructor Method\n",
      "Test class - Iinitialize Method\n",
      "Test class - Iinitialize Method\n"
     ]
    }
   ],
   "source": [
    "class Test:\n",
    "    def __init__(self):\n",
    "        print(\"Test class - Constructor Method\")\n",
    "    def m1(self):\n",
    "        print(\"Test class - Iinitialize Method\")\n",
    "    @classmethod\n",
    "    def m2(cls):\n",
    "        print(\"Test class - class method\")\n",
    "    @staticmethod\n",
    "    def m3():\n",
    "        print(\"Test class - Static method\")\n",
    "\n",
    "t1=Test()\n",
    "t2=Test()\n",
    "t1.m1()\n",
    "t1.m1()"
   ]
  },
  {
   "cell_type": "code",
   "execution_count": 4,
   "id": "70a3c3cb-d074-4882-9ac9-132e5d00d42e",
   "metadata": {},
   "outputs": [
    {
     "name": "stdout",
     "output_type": "stream",
     "text": [
      "Account Class - Constructor Method\n",
      "Account Class - Instance Method\n",
      "Account Class - Instance Method\n"
     ]
    }
   ],
   "source": [
    "class Account():\n",
    "    def __init__(self):\n",
    "        print(\"Account Class - Constructor Method\")\n",
    "    def deposit_Amount(self,Amount):\n",
    "        print(\"Account Class - Instance Method\")\n",
    "a1=Account()\n",
    "a1.deposit_Amount(900000)\n",
    "a1.deposit_Amount(900000)\n",
    "#a1.Account(101,\"rahul\",90000)how to initialize object value?"
   ]
  },
  {
   "cell_type": "code",
   "execution_count": 7,
   "id": "4b6494d2-c706-412f-bf9f-c1faef66eddb",
   "metadata": {},
   "outputs": [
    {
     "name": "stdout",
     "output_type": "stream",
     "text": [
      "{'acc_id': 101, 'acc_name': 'karthick', 'acc_bal': 190000}\n",
      "{'acc_id': 102, 'acc_name': 'satheesh', 'acc_bal': 578888}\n",
      "{'acc_id': 103, 'acc_name': 'dinesh', 'acc_bal': 90987867}\n"
     ]
    }
   ],
   "source": [
    "class Account():\n",
    "    min_bal=900\n",
    "    def __init__(self,id,name,amount):\n",
    "        self.acc_id=id\n",
    "        self.acc_name=name\n",
    "        self.acc_bal=amount\n",
    "    def deposit_amount(self,amount):\n",
    "        self.acc_bal=self.acc_bal+amount\n",
    "a1=Account(101,\"karthick\",89000)\n",
    "a1.deposit_amount(90000)\n",
    "a2=Account(102,\"satheesh\",78888)\n",
    "a2.deposit_amount(500000)\n",
    "a3=Account(103,\"dinesh\",90000)\n",
    "a3.deposit_amount(90897867)\n",
    "\n",
    "print(a1.__dict__)\n",
    "print(a2.__dict__)\n",
    "print(a3.__dict__)"
   ]
  },
  {
   "cell_type": "code",
   "execution_count": 8,
   "id": "e7f4c9c5-01c8-4946-b22d-03d2364038c1",
   "metadata": {},
   "outputs": [
    {
     "name": "stdout",
     "output_type": "stream",
     "text": [
      "{'__module__': '__main__', 'min_bal': 900, '__init__': <function Account.__init__ at 0x000002D0875622A0>, 'deposit_amount': <function Account.deposit_amount at 0x000002D087562FC0>, '__dict__': <attribute '__dict__' of 'Account' objects>, '__weakref__': <attribute '__weakref__' of 'Account' objects>, '__doc__': None}\n"
     ]
    }
   ],
   "source": [
    "class Account():\n",
    "    min_bal=900\n",
    "    def __init__(self,id,name,amount):\n",
    "        self.acc_id=id\n",
    "        self.acc_name=name\n",
    "        self.acc_bal=amount\n",
    "    def deposit_amount(self,amount):\n",
    "        self.acc_bal=self.acc_bal+amount\n",
    "print(Account.__dict__)"
   ]
  },
  {
   "cell_type": "code",
   "execution_count": 13,
   "id": "e5fef71a-6621-4ac1-b343-91ce6a3fee18",
   "metadata": {},
   "outputs": [
    {
     "name": "stdout",
     "output_type": "stream",
     "text": [
      "{'__module__': '__main__', '__doc__': 'Testing Class Description', '__dict__': <attribute '__dict__' of 'Test' objects>, '__weakref__': <attribute '__weakref__' of 'Test' objects>}\n",
      "Testing Class Description\n"
     ]
    }
   ],
   "source": [
    "class Test:\n",
    "    \"Testing Class Description\"\n",
    "    pass\n",
    "print(Test.__dict__)\n",
    "print(Test.__doc__)"
   ]
  },
  {
   "cell_type": "code",
   "execution_count": 9,
   "id": "7cf1bb1c-cfd9-44c8-bce0-ddb4c51a6584",
   "metadata": {},
   "outputs": [
    {
     "name": "stdout",
     "output_type": "stream",
     "text": [
      "{'eid': 101, 'ename': 'karthick', 'esal': 569999}\n",
      "{'eid': 102, 'ename': 'satheesh', 'esal': 56000}\n",
      "{'eid': 103, 'ename': 'dinesh', 'esal': 90000}\n",
      "{'__module__': '__main__', 'company_name': 'TCS', '__init__': <function Employee.__init__ at 0x0000020FF714FB00>, '__dict__': <attribute '__dict__' of 'Employee' objects>, '__weakref__': <attribute '__weakref__' of 'Employee' objects>, '__doc__': None}\n",
      "None\n"
     ]
    }
   ],
   "source": [
    "class Employee:\n",
    "    company_name='TCS' #static variable\n",
    "    def __init__(self,id,name,sal):\n",
    "        #create instance variable - self\n",
    "        self.eid=id\n",
    "        self.ename=name\n",
    "        self.esal=sal\n",
    "e1=Employee(101,\"karthick\",569999)\n",
    "print(e1.__dict__)\n",
    "e2=Employee(102,'satheesh',56000)\n",
    "print(e2.__dict__)\n",
    "e3=Employee(103,'dinesh',90000)\n",
    "print(e3.__dict__)\n",
    "print(Employee.__dict__)"
   ]
  },
  {
   "cell_type": "code",
   "execution_count": 11,
   "id": "f4327387-9655-4c44-80f0-d770907b64d7",
   "metadata": {},
   "outputs": [
    {
     "name": "stdout",
     "output_type": "stream",
     "text": [
      "{'a': 100, 'b': 900}\n",
      "{'a': 100}\n"
     ]
    }
   ],
   "source": [
    "class Test:\n",
    "    def __init__(self):\n",
    "        self.a=100\n",
    "    def m1(self):\n",
    "        self.b=900\n",
    "        \n",
    "    @classmethod\n",
    "    def m2(cls):\n",
    "        pass\n",
    "        \n",
    "    @staticmethod\n",
    "    def m3():\n",
    "        pass\n",
    "t1=Test()\n",
    "t2=Test()\n",
    "t1.m1()\n",
    "print(t1.__dict__)\n",
    "print(t2.__dict__)"
   ]
  },
  {
   "cell_type": "code",
   "execution_count": 18,
   "id": "503e90c6-64d4-42cd-9098-a244b016caba",
   "metadata": {},
   "outputs": [
    {
     "ename": "NameError",
     "evalue": "name 'self' is not defined",
     "output_type": "error",
     "traceback": [
      "\u001b[1;31m---------------------------------------------------------------------------\u001b[0m",
      "\u001b[1;31mNameError\u001b[0m                                 Traceback (most recent call last)",
      "Cell \u001b[1;32mIn[18], line 18\u001b[0m\n\u001b[0;32m     16\u001b[0m t1\u001b[38;5;241m.\u001b[39mm1()\n\u001b[0;32m     17\u001b[0m t2\u001b[38;5;241m.\u001b[39mc\u001b[38;5;241m=\u001b[39m\u001b[38;5;241m999\u001b[39m\n\u001b[1;32m---> 18\u001b[0m \u001b[43mt1\u001b[49m\u001b[38;5;241;43m.\u001b[39;49m\u001b[43mm2\u001b[49m\u001b[43m(\u001b[49m\u001b[43m)\u001b[49m\n\u001b[0;32m     19\u001b[0m t1\u001b[38;5;241m.\u001b[39mm3()\n\u001b[0;32m     20\u001b[0m \u001b[38;5;28mprint\u001b[39m(t1\u001b[38;5;241m.\u001b[39m\u001b[38;5;18m__dict__\u001b[39m)\u001b[38;5;66;03m#{'a': 100, 'b': 900}\u001b[39;00m\n",
      "Cell \u001b[1;32mIn[18], line 9\u001b[0m, in \u001b[0;36mTest.m2\u001b[1;34m(cls)\u001b[0m\n\u001b[0;32m      7\u001b[0m \u001b[38;5;129m@classmethod\u001b[39m\n\u001b[0;32m      8\u001b[0m \u001b[38;5;28;01mdef\u001b[39;00m \u001b[38;5;21mm2\u001b[39m(\u001b[38;5;28mcls\u001b[39m):\n\u001b[1;32m----> 9\u001b[0m     \u001b[38;5;28mprint\u001b[39m(\u001b[38;5;28;43mself\u001b[39;49m\u001b[38;5;241m.\u001b[39ma)\n",
      "\u001b[1;31mNameError\u001b[0m: name 'self' is not defined"
     ]
    }
   ],
   "source": [
    "class Test:\n",
    "    def __init__(self):\n",
    "        self.a=100\n",
    "    def m1(self):\n",
    "        self.b=900\n",
    "        \n",
    "    @classmethod\n",
    "    def m2(cls):\n",
    "        print(self.a)\n",
    "        \n",
    "    @staticmethod\n",
    "    def m3():\n",
    "        print(self.a)\n",
    "t1=Test()\n",
    "t2=Test()\n",
    "t1.m1()\n",
    "t2.c=999\n",
    "t1.m2()\n",
    "t1.m3()\n",
    "print(t1.__dict__)#{'a': 100, 'b': 900}\n",
    "print(t2.__dict__)#{'a': 100, 'c': 999}"
   ]
  },
  {
   "cell_type": "code",
   "execution_count": 21,
   "id": "c3039ad1-996a-4e1e-ba88-40824c13c603",
   "metadata": {},
   "outputs": [
    {
     "ename": "NameError",
     "evalue": "name 'self' is not defined",
     "output_type": "error",
     "traceback": [
      "\u001b[1;31m---------------------------------------------------------------------------\u001b[0m",
      "\u001b[1;31mNameError\u001b[0m                                 Traceback (most recent call last)",
      "Cell \u001b[1;32mIn[21], line 14\u001b[0m\n\u001b[0;32m     12\u001b[0m t1\u001b[38;5;241m.\u001b[39mm1()\n\u001b[0;32m     13\u001b[0m t2\u001b[38;5;241m.\u001b[39md\u001b[38;5;241m=\u001b[39m\u001b[38;5;241m499\u001b[39m\n\u001b[1;32m---> 14\u001b[0m \u001b[43mt1\u001b[49m\u001b[38;5;241;43m.\u001b[39;49m\u001b[43mm2\u001b[49m\u001b[43m(\u001b[49m\u001b[43m)\u001b[49m\n\u001b[0;32m     15\u001b[0m t2\u001b[38;5;241m.\u001b[39mm2()\n\u001b[0;32m     16\u001b[0m \u001b[38;5;28mprint\u001b[39m(t1\u001b[38;5;241m.\u001b[39m\u001b[38;5;18m__dict__\u001b[39m)\n",
      "Cell \u001b[1;32mIn[21], line 9\u001b[0m, in \u001b[0;36mTest.m2\u001b[1;34m(cls)\u001b[0m\n\u001b[0;32m      7\u001b[0m \u001b[38;5;129m@classmethod\u001b[39m\n\u001b[0;32m      8\u001b[0m \u001b[38;5;28;01mdef\u001b[39;00m \u001b[38;5;21mm2\u001b[39m(\u001b[38;5;28mcls\u001b[39m):\n\u001b[1;32m----> 9\u001b[0m     \u001b[38;5;28;43mself\u001b[39;49m\u001b[38;5;241m.\u001b[39mc\u001b[38;5;241m=\u001b[39m\u001b[38;5;241m600\u001b[39m\n",
      "\u001b[1;31mNameError\u001b[0m: name 'self' is not defined"
     ]
    }
   ],
   "source": [
    "class Test:\n",
    "    def __init__(self):\n",
    "        self.a=300\n",
    "    def m1(self):\n",
    "        self.b=900\n",
    "        \n",
    "    @classmethod\n",
    "    def m2(cls):\n",
    "        self.c=600\n",
    "t1=Test()\n",
    "t2=Test()\n",
    "t1.m1()\n",
    "t2.d=499\n",
    "t1.m2()\n",
    "t2.m2()\n",
    "print(t1.__dict__)\n",
    "print(t2.__dict__)"
   ]
  },
  {
   "cell_type": "code",
   "execution_count": 24,
   "id": "36f48bce-1e34-4dd1-bceb-af56b5e8a9a8",
   "metadata": {},
   "outputs": [
    {
     "name": "stdout",
     "output_type": "stream",
     "text": [
      "{'__module__': '__main__', 'a': 900, '__init__': <function Test.__init__ at 0x0000020FF7169E40>, '__dict__': <attribute '__dict__' of 'Test' objects>, '__weakref__': <attribute '__weakref__' of 'Test' objects>, '__doc__': None, 'b': 400}\n"
     ]
    }
   ],
   "source": [
    "class Test:\n",
    "    a=900\n",
    "    def __init__(self):\n",
    "        Test.b=400\n",
    "t1=Test()\n",
    "print(Test.__dict__)"
   ]
  },
  {
   "cell_type": "code",
   "execution_count": 27,
   "id": "19876252-f95a-4b81-ad0c-8aec036f525e",
   "metadata": {},
   "outputs": [
    {
     "name": "stdout",
     "output_type": "stream",
     "text": [
      "{'__module__': '__main__', '__init__': <function Test.__init__ at 0x0000020FF6E32520>, 'm1': <function Test.m1 at 0x0000020FF6E33CE0>, 'm2': <classmethod(<function Test.m2 at 0x0000020FF6E32340>)>, 'm3': <staticmethod(<function Test.m3 at 0x0000020FF6E325C0>)>, '__dict__': <attribute '__dict__' of 'Test' objects>, '__weakref__': <attribute '__weakref__' of 'Test' objects>, '__doc__': None, 'a': 100}\n",
      "{'__module__': '__main__', '__init__': <function Test.__init__ at 0x0000020FF6E32520>, 'm1': <function Test.m1 at 0x0000020FF6E33CE0>, 'm2': <classmethod(<function Test.m2 at 0x0000020FF6E32340>)>, 'm3': <staticmethod(<function Test.m3 at 0x0000020FF6E325C0>)>, '__dict__': <attribute '__dict__' of 'Test' objects>, '__weakref__': <attribute '__weakref__' of 'Test' objects>, '__doc__': None, 'a': 100, 'g': 700, 'b': 900, 'd': 300, 'e': 200, 'f': 600}\n"
     ]
    }
   ],
   "source": [
    "class Test:\n",
    "    def __init__(self):\n",
    "        Test.a=100\n",
    "    def m1(self):\n",
    "        Test.b=900\n",
    "        \n",
    "    @classmethod\n",
    "    def m2(cls):\n",
    "        Test.d=300\n",
    "        cls.e=200\n",
    "    @staticmethod\n",
    "    def m3():\n",
    "        Test.f=600\n",
    "t1=Test()\n",
    "print(Test.__dict__)\n",
    "Test.g=700\n",
    "t1.m1()\n",
    "t1.m2()\n",
    "t1.m3()\n",
    "print(Test.__dict__)"
   ]
  },
  {
   "cell_type": "code",
   "execution_count": null,
   "id": "3ba6291f-2c7a-42d7-89e4-0f2d00008f8c",
   "metadata": {},
   "outputs": [],
   "source": []
  }
 ],
 "metadata": {
  "kernelspec": {
   "display_name": "Python 3 (ipykernel)",
   "language": "python",
   "name": "python3"
  },
  "language_info": {
   "codemirror_mode": {
    "name": "ipython",
    "version": 3
   },
   "file_extension": ".py",
   "mimetype": "text/x-python",
   "name": "python",
   "nbconvert_exporter": "python",
   "pygments_lexer": "ipython3",
   "version": "3.12.5"
  }
 },
 "nbformat": 4,
 "nbformat_minor": 5
}
