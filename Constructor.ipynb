{
 "cells": [
  {
   "cell_type": "code",
   "execution_count": 1,
   "id": "3105c3cb-20ce-4556-ac97-278f8a47ddf2",
   "metadata": {},
   "outputs": [
    {
     "name": "stdout",
     "output_type": "stream",
     "text": [
      "Test class - Constructor Method\n",
      "Test class - Constructor Method\n",
      "Test class - Iinitialize Method\n",
      "Test class - Iinitialize Method\n"
     ]
    }
   ],
   "source": [
    "class Test:\n",
    "    def __init__(self):\n",
    "        print(\"Test class - Constructor Method\")\n",
    "    def m1(self):\n",
    "        print(\"Test class - Iinitialize Method\")\n",
    "    @classmethod\n",
    "    def m2(cls):\n",
    "        print(\"Test class - class method\")\n",
    "    @staticmethod\n",
    "    def m3():\n",
    "        print(\"Test class - Static method\")\n",
    "\n",
    "t1=Test()\n",
    "t2=Test()\n",
    "t1.m1()\n",
    "t1.m1()"
   ]
  },
  {
   "cell_type": "code",
   "execution_count": 4,
   "id": "70a3c3cb-d074-4882-9ac9-132e5d00d42e",
   "metadata": {},
   "outputs": [
    {
     "name": "stdout",
     "output_type": "stream",
     "text": [
      "Account Class - Constructor Method\n",
      "Account Class - Instance Method\n",
      "Account Class - Instance Method\n"
     ]
    }
   ],
   "source": [
    "class Account():\n",
    "    def __init__(self):\n",
    "        print(\"Account Class - Constructor Method\")\n",
    "    def deposit_Amount(self,Amount):\n",
    "        print(\"Account Class - Instance Method\")\n",
    "a1=Account()\n",
    "a1.deposit_Amount(900000)\n",
    "a1.deposit_Amount(900000)\n",
    "#a1.Account(101,\"rahul\",90000)how to initialize object value?"
   ]
  },
  {
   "cell_type": "code",
   "execution_count": 7,
   "id": "4b6494d2-c706-412f-bf9f-c1faef66eddb",
   "metadata": {},
   "outputs": [
    {
     "name": "stdout",
     "output_type": "stream",
     "text": [
      "{'acc_id': 101, 'acc_name': 'karthick', 'acc_bal': 190000}\n",
      "{'acc_id': 102, 'acc_name': 'satheesh', 'acc_bal': 578888}\n",
      "{'acc_id': 103, 'acc_name': 'dinesh', 'acc_bal': 90987867}\n"
     ]
    }
   ],
   "source": [
    "class Account():\n",
    "    min_bal=900\n",
    "    def __init__(self,id,name,amount):\n",
    "        self.acc_id=id\n",
    "        self.acc_name=name\n",
    "        self.acc_bal=amount\n",
    "    def deposit_amount(self,amount):\n",
    "        self.acc_bal=self.acc_bal+amount\n",
    "a1=Account(101,\"karthick\",89000)\n",
    "a1.deposit_amount(90000)\n",
    "a2=Account(102,\"satheesh\",78888)\n",
    "a2.deposit_amount(500000)\n",
    "a3=Account(103,\"dinesh\",90000)\n",
    "a3.deposit_amount(90897867)\n",
    "\n",
    "print(a1.__dict__)\n",
    "print(a2.__dict__)\n",
    "print(a3.__dict__)"
   ]
  },
  {
   "cell_type": "code",
   "execution_count": 8,
   "id": "e7f4c9c5-01c8-4946-b22d-03d2364038c1",
   "metadata": {},
   "outputs": [
    {
     "name": "stdout",
     "output_type": "stream",
     "text": [
      "{'__module__': '__main__', 'min_bal': 900, '__init__': <function Account.__init__ at 0x000002D0875622A0>, 'deposit_amount': <function Account.deposit_amount at 0x000002D087562FC0>, '__dict__': <attribute '__dict__' of 'Account' objects>, '__weakref__': <attribute '__weakref__' of 'Account' objects>, '__doc__': None}\n"
     ]
    }
   ],
   "source": [
    "class Account():\n",
    "    min_bal=900\n",
    "    def __init__(self,id,name,amount):\n",
    "        self.acc_id=id\n",
    "        self.acc_name=name\n",
    "        self.acc_bal=amount\n",
    "    def deposit_amount(self,amount):\n",
    "        self.acc_bal=self.acc_bal+amount\n",
    "print(Account.__dict__)"
   ]
  },
  {
   "cell_type": "code",
   "execution_count": 13,
   "id": "e5fef71a-6621-4ac1-b343-91ce6a3fee18",
   "metadata": {},
   "outputs": [
    {
     "name": "stdout",
     "output_type": "stream",
     "text": [
      "{'__module__': '__main__', '__doc__': 'Testing Class Description', '__dict__': <attribute '__dict__' of 'Test' objects>, '__weakref__': <attribute '__weakref__' of 'Test' objects>}\n",
      "Testing Class Description\n"
     ]
    }
   ],
   "source": [
    "class Test:\n",
    "    \"Testing Class Description\"\n",
    "    pass\n",
    "print(Test.__dict__)\n",
    "print(Test.__doc__)"
   ]
  },
  {
   "cell_type": "code",
   "execution_count": null,
   "id": "7cf1bb1c-cfd9-44c8-bce0-ddb4c51a6584",
   "metadata": {},
   "outputs": [],
   "source": []
  }
 ],
 "metadata": {
  "kernelspec": {
   "display_name": "Python 3 (ipykernel)",
   "language": "python",
   "name": "python3"
  },
  "language_info": {
   "codemirror_mode": {
    "name": "ipython",
    "version": 3
   },
   "file_extension": ".py",
   "mimetype": "text/x-python",
   "name": "python",
   "nbconvert_exporter": "python",
   "pygments_lexer": "ipython3",
   "version": "3.12.5"
  }
 },
 "nbformat": 4,
 "nbformat_minor": 5
}
