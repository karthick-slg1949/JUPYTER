{
 "cells": [
  {
   "cell_type": "code",
   "execution_count": null,
   "id": "029a5ea9-cb1b-44c1-af28-dffdc3b6f48a",
   "metadata": {},
   "outputs": [],
   "source": []
  }
 ],
 "metadata": {
  "kernelspec": {
   "display_name": "",
   "name": ""
  },
  "language_info": {
   "name": ""
  }
 },
 "nbformat": 4,
 "nbformat_minor": 5
}
