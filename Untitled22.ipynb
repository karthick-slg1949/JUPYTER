{
 "cells": [
  {
   "cell_type": "code",
   "execution_count": 2,
   "id": "2373c06f-6320-4dc0-9544-ff7f59da68ce",
   "metadata": {},
   "outputs": [
    {
     "name": "stdout",
     "output_type": "stream",
     "text": [
      "{\n",
      "    \"eid\":\"101\",\n",
      "    \"ename\":\"Rahul\",\n",
      "    \"avail\":true,\n",
      "    \"loc\":\"undefined\",\n",
      "    \"esal\":null\n",
      "}\n",
      "<class 'dict'>\n",
      "{'eid': '101', 'ename': 'Rahul', 'avail': True, 'loc': 'undefined', 'esal': None}\n"
     ]
    }
   ],
   "source": [
    "import json \n",
    "emp_json='''{\n",
    "    \"eid\":\"101\",\n",
    "    \"ename\":\"Rahul\",\n",
    "    \"avail\":true,\n",
    "    \"loc\":\"undefined\",\n",
    "    \"esal\":null\n",
    "}'''\n",
    "print(emp_json)\n",
    "emp_dict=json.loads(emp_json)\n",
    "print(type(emp_dict))  #<class,dict>\n",
    "print(emp_dict)"
   ]
  },
  {
   "cell_type": "code",
   "execution_count": 6,
   "id": "4b3598ae-cfdf-4b4b-8e4d-9e27453921df",
   "metadata": {},
   "outputs": [
    {
     "name": "stdout",
     "output_type": "stream",
     "text": [
      "['__doc__', '__loader__', '__name__', '__package__', '__spec__', 'acos', 'acosh', 'asin', 'asinh', 'atan', 'atan2', 'atanh', 'cbrt', 'ceil', 'comb', 'copysign', 'cos', 'cosh', 'degrees', 'dist', 'e', 'erf', 'erfc', 'exp', 'exp2', 'expm1', 'fabs', 'factorial', 'floor', 'fmod', 'frexp', 'fsum', 'gamma', 'gcd', 'hypot', 'inf', 'isclose', 'isfinite', 'isinf', 'isnan', 'isqrt', 'lcm', 'ldexp', 'lgamma', 'log', 'log10', 'log1p', 'log2', 'modf', 'nan', 'nextafter', 'perm', 'pi', 'pow', 'prod', 'radians', 'remainder', 'sin', 'sinh', 'sqrt', 'sumprod', 'tan', 'tanh', 'tau', 'trunc', 'ulp']\n"
     ]
    }
   ],
   "source": [
    "import math\n",
    "a=19\n",
    "b=90\n",
    "print(dir(math))"
   ]
  },
  {
   "cell_type": "code",
   "execution_count": null,
   "id": "288c0650-0874-42b9-aac2-29c5ee03aa2b",
   "metadata": {},
   "outputs": [],
   "source": []
  }
 ],
 "metadata": {
  "kernelspec": {
   "display_name": "Python 3 (ipykernel)",
   "language": "python",
   "name": "python3"
  },
  "language_info": {
   "codemirror_mode": {
    "name": "ipython",
    "version": 3
   },
   "file_extension": ".py",
   "mimetype": "text/x-python",
   "name": "python",
   "nbconvert_exporter": "python",
   "pygments_lexer": "ipython3",
   "version": "3.12.5"
  }
 },
 "nbformat": 4,
 "nbformat_minor": 5
}
