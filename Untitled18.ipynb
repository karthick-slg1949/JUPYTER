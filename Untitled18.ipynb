{
 "cells": [
  {
   "cell_type": "code",
   "execution_count": 8,
   "id": "4b8f52f5-7d88-4694-ae6b-616340da9072",
   "metadata": {},
   "outputs": [
    {
     "name": "stdout",
     "output_type": "stream",
     "text": [
      "[100, 400, 900, 1600]\n"
     ]
    }
   ],
   "source": [
    "numbers=[10,20,30,40]\n",
    "new_numbers=[]\n",
    "for num in numbers:\n",
    "    new_numbers.append(num*num)\n",
    "print(new_numbers)\n",
    "    "
   ]
  },
  {
   "cell_type": "code",
   "execution_count": 7,
   "id": "aef158af-fff3-46f4-92dc-efad9b82d5bf",
   "metadata": {},
   "outputs": [
    {
     "name": "stdout",
     "output_type": "stream",
     "text": [
      "[2, 2, 2, 2, 2]\n",
      "set()\n",
      "()\n"
     ]
    }
   ],
   "source": [
    "def plusone(ele):\n",
    "    return ele + 1\n",
    "numbers=[1,1,1,1,1]\n",
    "map_obj=map(plusone,numbers)\n",
    "l=list(map_obj)\n",
    "s=set(map_obj)\n",
    "t=tuple(map_obj)\n",
    "print(l)\n",
    "print(s)\n",
    "print(t)"
   ]
  },
  {
   "cell_type": "code",
   "execution_count": 8,
   "id": "cbfa6d4f-aa8a-4a4e-b5a3-e4ef3ebd7952",
   "metadata": {},
   "outputs": [
    {
     "name": "stdout",
     "output_type": "stream",
     "text": [
      "[{'id': 1, 'name': 'Marker Pen', 'category': 'st'}, {'id': 3, 'name': 'Pens', 'category': 'st'}, {'id': 5, 'name': 'Duster', 'category': 'st'}]\n",
      "[{'id': 6, 'name': 'Dal', 'category': 'gr'}]\n"
     ]
    }
   ],
   "source": [
    "products=[\n",
    "    {'id':1,'name':'Marker Pen', 'category':'st'},\n",
    "\t{'id':2,'name':'Sugar', 'category':'gr'},\n",
    "\t{'id':3,'name':'Pens', 'category':'st'},\n",
    "\t{'id':4,'name':'Millet', 'category':'gr'},\n",
    "\t{'id':5,'name':'Duster', 'category':'st'},\n",
    "\t{'id':6,'name':'Dal', 'category':'gr'}\n",
    "    ]\n",
    "st_products=[]\n",
    "gr_products=[]\n",
    "\n",
    "for product in products:\n",
    "    if product['category']=='st':\n",
    "        st_products.append(product)\n",
    "else:\n",
    "    gr_products.append(product)\n",
    "print(st_products)\n",
    "print(gr_products)\n"
   ]
  },
  {
   "cell_type": "code",
   "execution_count": 9,
   "id": "ede04f6c-505f-4017-974f-429aaf5e6bc9",
   "metadata": {},
   "outputs": [
    {
     "name": "stdout",
     "output_type": "stream",
     "text": [
      "[{'id': 1, 'name': 'Marker Pen', 'category': 'st'}, {'id': 3, 'name': 'Pens', 'category': 'st'}, {'id': 5, 'name': 'Duster', 'category': 'st'}]\n"
     ]
    }
   ],
   "source": [
    "products=[\n",
    "    {'id':1,'name':'Marker Pen', 'category':'st'},\n",
    "\t{'id':2,'name':'Sugar', 'category':'gr'},\n",
    "\t{'id':3,'name':'Pens', 'category':'st'},\n",
    "\t{'id':4,'name':'Millet', 'category':'gr'},\n",
    "\t{'id':5,'name':'Duster', 'category':'st'},\n",
    "\t{'id':6,'name':'Dal', 'category':'gr'}\n",
    "    ]\n",
    "def filterdata(product):\n",
    "    if product['category']=='st':\n",
    "        return True\n",
    "    else:\n",
    "        return False\n",
    "        \n",
    "# filter_obj=filter(filterdata,products)\n",
    "# st_products=list(filter_obj)\n",
    "# print(st_products)\n",
    "print(list(filter(filterdata,products)))\n"
   ]
  },
  {
   "cell_type": "code",
   "execution_count": 10,
   "id": "b13f5f73-b46c-4a0c-8be8-b4d27de07532",
   "metadata": {},
   "outputs": [
    {
     "name": "stdout",
     "output_type": "stream",
     "text": [
      "[2, 4, 6, 8, 10]\n"
     ]
    }
   ],
   "source": [
    "numbers=[1,2,3,4,5,6,7,8,9,10]\n",
    "\n",
    "def filterdata(num):\n",
    "    return num%2==0\n",
    "filter_obj=filter(filterdata,numbers)\n",
    "even_numbers=list(filter_obj)\n",
    "print(even_numbers)\n"
   ]
  },
  {
   "cell_type": "code",
   "execution_count": 11,
   "id": "095a1529-baaa-4a6d-8e0f-d8b15da611f5",
   "metadata": {},
   "outputs": [
    {
     "name": "stdout",
     "output_type": "stream",
     "text": [
      "[2, 4, 6, 8, 10]\n"
     ]
    }
   ],
   "source": [
    "numbers=[1,2,3,4,5,6,7,8,9,10]\n",
    "print(list(filter(lambda num:num%2==0,numbers)))"
   ]
  },
  {
   "cell_type": "code",
   "execution_count": null,
   "id": "1ab18c3d-10c9-4759-8c47-fe89df60823d",
   "metadata": {},
   "outputs": [],
   "source": []
  }
 ],
 "metadata": {
  "kernelspec": {
   "display_name": "Python 3 (ipykernel)",
   "language": "python",
   "name": "python3"
  },
  "language_info": {
   "codemirror_mode": {
    "name": "ipython",
    "version": 3
   },
   "file_extension": ".py",
   "mimetype": "text/x-python",
   "name": "python",
   "nbconvert_exporter": "python",
   "pygments_lexer": "ipython3",
   "version": "3.12.5"
  }
 },
 "nbformat": 4,
 "nbformat_minor": 5
}
