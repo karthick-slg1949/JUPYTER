{
 "cells": [
  {
   "cell_type": "code",
   "execution_count": 2,
   "id": "e680b5c2-a8aa-47f1-bb75-e6d22cb89be3",
   "metadata": {},
   "outputs": [
    {
     "name": "stdout",
     "output_type": "stream",
     "text": [
      "karthick\n"
     ]
    }
   ],
   "source": [
    "def update(name):\n",
    "    return name.lower()\n",
    "name=update(\"karthick\")\n",
    "print(name)\n"
   ]
  },
  {
   "cell_type": "code",
   "execution_count": 4,
   "id": "037c40bd-e278-4a4b-a747-1330486ed9c1",
   "metadata": {},
   "outputs": [
    {
     "name": "stdout",
     "output_type": "stream",
     "text": [
      "<class 'int'>\n",
      "<class 'function'>\n"
     ]
    }
   ],
   "source": [
    "a=100\n",
    "update=lambda name:name.lower()\n",
    "print(type(a))\n",
    "print(type(update))"
   ]
  },
  {
   "cell_type": "code",
   "execution_count": 5,
   "id": "53a56ffc-91d2-405d-87b4-36ea47f9d95d",
   "metadata": {},
   "outputs": [],
   "source": [
    "x=lambda arg_list:expression"
   ]
  },
  {
   "cell_type": "code",
   "execution_count": 13,
   "id": "921912e3-8945-4393-87d4-40e7bd76ec21",
   "metadata": {},
   "outputs": [
    {
     "name": "stdout",
     "output_type": "stream",
     "text": [
      "[11, 21, 31, 41]\n",
      "[10, 20, 30, 40]\n"
     ]
    }
   ],
   "source": [
    "numbers=[10,20,30,40]\n",
    "def addplus(num):\n",
    "    return num+1\n",
    "map_obj=map(addplus,numbers)\n",
    "new_numbers=list(map_obj)\n",
    "print(new_numbers)\n",
    "print(numbers)"
   ]
  },
  {
   "cell_type": "code",
   "execution_count": 12,
   "id": "fac05f3c-1f33-4f7d-b399-6399b3c0eaed",
   "metadata": {},
   "outputs": [
    {
     "name": "stdout",
     "output_type": "stream",
     "text": [
      "[11, 21, 31, 41]\n",
      "[10, 20, 30, 40]\n"
     ]
    }
   ],
   "source": [
    "\n"
   ]
  },
  {
   "cell_type": "code",
   "execution_count": 11,
   "id": "b03f1af6-17eb-4043-98be-9114a3b47c4f",
   "metadata": {},
   "outputs": [
    {
     "name": "stdout",
     "output_type": "stream",
     "text": [
      "[10, 20, 30, 40]\n",
      "[11, 21, 31, 41]\n"
     ]
    }
   ],
   "source": [
    "map_obj=map(lambda num:num+1,numbers)\n",
    "new_numbers=list(map_obj)\n",
    "print(numbers)\n",
    "print(new_numbers)"
   ]
  },
  {
   "cell_type": "code",
   "execution_count": null,
   "id": "94f653b1-1730-4f8d-bd63-5abf51a896b4",
   "metadata": {},
   "outputs": [],
   "source": [
    "enames=['karthick','arun','rahul','navin']"
   ]
  }
 ],
 "metadata": {
  "kernelspec": {
   "display_name": "Python 3 (ipykernel)",
   "language": "python",
   "name": "python3"
  },
  "language_info": {
   "codemirror_mode": {
    "name": "ipython",
    "version": 3
   },
   "file_extension": ".py",
   "mimetype": "text/x-python",
   "name": "python",
   "nbconvert_exporter": "python",
   "pygments_lexer": "ipython3",
   "version": "3.12.5"
  }
 },
 "nbformat": 4,
 "nbformat_minor": 5
}
