{
 "cells": [
  {
   "cell_type": "code",
   "execution_count": 1,
   "id": "36a5f5a3-634b-486c-9434-7851de8c55fc",
   "metadata": {},
   "outputs": [
    {
     "name": "stdout",
     "output_type": "stream",
     "text": [
      "<class 'list'>\n"
     ]
    }
   ],
   "source": [
    "l1=[10,20,30,40]\n",
    "print(type(l1))"
   ]
  },
  {
   "cell_type": "code",
   "execution_count": 6,
   "id": "b9113502-080f-45cd-aefa-86d09e469795",
   "metadata": {},
   "outputs": [
    {
     "name": "stdout",
     "output_type": "stream",
     "text": [
      "[10, 20, 30, 50.6, 'arun', True, [], {}]\n",
      "<class 'list'>\n"
     ]
    }
   ],
   "source": [
    "l2=[10,20,30,50.6,\"arun\",True,[],{}]\n",
    "\n",
    "print(l2)\n",
    "print(type(l2))\n"
   ]
  },
  {
   "cell_type": "code",
   "execution_count": 8,
   "id": "da9ef88a-dc73-4b6e-9850-46934c6361f6",
   "metadata": {},
   "outputs": [
    {
     "name": "stdout",
     "output_type": "stream",
     "text": [
      "[101, 102, 103, 104]\n",
      "101\n",
      "102\n",
      "103\n",
      "104\n"
     ]
    },
    {
     "ename": "IndexError",
     "evalue": "list index out of range",
     "output_type": "error",
     "traceback": [
      "\u001b[1;31m---------------------------------------------------------------------------\u001b[0m",
      "\u001b[1;31mIndexError\u001b[0m                                Traceback (most recent call last)",
      "Cell \u001b[1;32mIn[8], line 8\u001b[0m\n\u001b[0;32m      6\u001b[0m \u001b[38;5;28mprint\u001b[39m(eids[\u001b[38;5;241m2\u001b[39m])\n\u001b[0;32m      7\u001b[0m \u001b[38;5;28mprint\u001b[39m(eids[\u001b[38;5;241m3\u001b[39m])\n\u001b[1;32m----> 8\u001b[0m \u001b[38;5;28mprint\u001b[39m(\u001b[43meids\u001b[49m\u001b[43m[\u001b[49m\u001b[38;5;241;43m4\u001b[39;49m\u001b[43m]\u001b[49m)\n",
      "\u001b[1;31mIndexError\u001b[0m: list index out of range"
     ]
    }
   ],
   "source": [
    "eids=[101,102,103,104]\n",
    "print(eids)\n",
    "#how to read list elements indexing\n",
    "print(eids[0])\n",
    "print(eids[1])\n",
    "print(eids[2])\n",
    "print(eids[3])\n",
    "print(eids[4])"
   ]
  },
  {
   "cell_type": "code",
   "execution_count": 10,
   "id": "c538ca21-4727-4353-86f7-4f875ddf130a",
   "metadata": {},
   "outputs": [
    {
     "name": "stdout",
     "output_type": "stream",
     "text": [
      "[101, 102, 103, 104]\n",
      "101\n"
     ]
    }
   ],
   "source": [
    "eids=[101,102,103,104]\n",
    "print(eids)\n",
    "print(eids[-4])"
   ]
  },
  {
   "cell_type": "code",
   "execution_count": 11,
   "id": "02981caa-2d7d-4f78-814b-63af77871404",
   "metadata": {},
   "outputs": [
    {
     "name": "stdout",
     "output_type": "stream",
     "text": [
      "karthi\n",
      "satheesh\n",
      "dinesh\n",
      "vikram\n",
      "navin\n"
     ]
    }
   ],
   "source": [
    "#iterable object using for loop\n",
    "enames=[\"karthi\",\"satheesh\",\"dinesh\",\"vikram\",\"navin\"]\n",
    "for ename in enames:\n",
    "    print(ename)"
   ]
  },
  {
   "cell_type": "code",
   "execution_count": 25,
   "id": "615f44a7-3927-4c72-b4d8-0fe9355dd8ec",
   "metadata": {},
   "outputs": [
    {
     "name": "stdout",
     "output_type": "stream",
     "text": [
      "*FOR LOOP\n",
      "karthi\n",
      "satheesh\n",
      "dinesh\n",
      "vikram\n",
      "navin\n",
      "-------------------\n",
      "*WHILE LOOP\n",
      "karthi\n",
      "satheesh\n",
      "dinesh\n",
      "vikram\n",
      "navin\n"
     ]
    }
   ],
   "source": [
    "#iterable object using for loop\n",
    "enames=[\"karthi\",\"satheesh\",\"dinesh\",\"vikram\",\"navin\"]\n",
    "print(\"*FOR LOOP\")\n",
    "for ename in enames:\n",
    "    print(ename)\n",
    "\n",
    "print(\"-------------------\")\n",
    "# iterable object using while loop\n",
    "enames=[\"karthi\",\"satheesh\",\"dinesh\",\"vikram\",\"navin\"]\n",
    "#index    0          1         2         3       4\n",
    "print(\"*WHILE LOOP\")\n",
    "i=0\n",
    "while i<=4:\n",
    "    print(enames[i])\n",
    "    i=i+1\n",
    "\n"
   ]
  },
  {
   "cell_type": "code",
   "execution_count": 13,
   "id": "4bc75d2e-0647-4857-9aac-770c1ff87017",
   "metadata": {},
   "outputs": [
    {
     "name": "stdout",
     "output_type": "stream",
     "text": [
      "35\n",
      "36\n",
      "37\n",
      "38\n",
      "39\n",
      "40\n"
     ]
    }
   ],
   "source": [
    "marks=[35,36,37,38,39,40]\n",
    "for mark in marks:\n",
    "    print(mark)"
   ]
  },
  {
   "cell_type": "code",
   "execution_count": 28,
   "id": "4649e35e-883b-4b89-80e1-d58bb4f84a23",
   "metadata": {},
   "outputs": [
    {
     "name": "stdout",
     "output_type": "stream",
     "text": [
      "299\n"
     ]
    }
   ],
   "source": [
    "marks=[34,45,60,70,90]\n",
    "total_marks=0\n",
    "\n",
    "i=0\n",
    "while i<=4:\n",
    "    total_marks=total_marks+marks[i]\n",
    "    i=i+1\n",
    "\n",
    "    \n",
    "print(total_marks)\n"
   ]
  },
  {
   "cell_type": "code",
   "execution_count": 44,
   "id": "aeaede52-e222-4f82-93f3-59ecf3593de1",
   "metadata": {},
   "outputs": [
    {
     "name": "stdin",
     "output_type": "stream",
     "text": [
      "Enter the data 34,34,5,676,\n"
     ]
    },
    {
     "name": "stdout",
     "output_type": "stream",
     "text": [
      "[]\n",
      "[10, 20, 30, 40]\n",
      "[0, 1, 2, 3, 4]\n",
      "<class 'list'>\n",
      "(34, 34, 5, 676)\n"
     ]
    }
   ],
   "source": [
    "#create list\n",
    "l1=[]\n",
    "l2=[10,20,30,40]\n",
    "l3=list(range(0,5))\n",
    "#eval finction\n",
    "l4=eval(input(\"Enter the data\"))\n",
    "             \n",
    "#read list\n",
    "print(l1)\n",
    "print(l2)\n",
    "print(l3)\n",
    "print(type(l3))\n",
    "print(l4)             "
   ]
  },
  {
   "cell_type": "code",
   "execution_count": 52,
   "id": "42f964fe-678e-4c5e-af38-36bfd74f26dd",
   "metadata": {},
   "outputs": [
    {
     "name": "stdout",
     "output_type": "stream",
     "text": [
      "12\n",
      "9\n"
     ]
    }
   ],
   "source": [
    "l1=[10,20,30,40,10,10,10,10,10,10,10,10]\n",
    "print(len(l1))#print the data length\n",
    "print(l1.count(10))#print the data count "
   ]
  },
  {
   "cell_type": "code",
   "execution_count": 55,
   "id": "9794a143-2bb4-4569-ad0d-e92aca34e6ce",
   "metadata": {},
   "outputs": [
    {
     "ename": "AttributeError",
     "evalue": "'list' object has no attribute 'karthi'",
     "output_type": "error",
     "traceback": [
      "\u001b[1;31m---------------------------------------------------------------------------\u001b[0m",
      "\u001b[1;31mAttributeError\u001b[0m                            Traceback (most recent call last)",
      "Cell \u001b[1;32mIn[55], line 2\u001b[0m\n\u001b[0;32m      1\u001b[0m enames\u001b[38;5;241m=\u001b[39m[\u001b[38;5;124m\"\u001b[39m\u001b[38;5;124mkarthi\u001b[39m\u001b[38;5;124m\"\u001b[39m,\u001b[38;5;124m\"\u001b[39m\u001b[38;5;124mdinesh\u001b[39m\u001b[38;5;124m\"\u001b[39m,\u001b[38;5;124m\"\u001b[39m\u001b[38;5;124msatheesh\u001b[39m\u001b[38;5;124m\"\u001b[39m,\u001b[38;5;124m\"\u001b[39m\u001b[38;5;124mkarthi\u001b[39m\u001b[38;5;124m\"\u001b[39m,\u001b[38;5;124m\"\u001b[39m\u001b[38;5;124mkarthi\u001b[39m\u001b[38;5;124m\"\u001b[39m]\n\u001b[1;32m----> 2\u001b[0m \u001b[38;5;28mprint\u001b[39m(l1\u001b[38;5;241m.\u001b[39mcount(\u001b[43menames\u001b[49m\u001b[38;5;241;43m.\u001b[39;49m\u001b[43mkarthi\u001b[49m))\n",
      "\u001b[1;31mAttributeError\u001b[0m: 'list' object has no attribute 'karthi'"
     ]
    }
   ],
   "source": [
    "enames=[\"karthi\",\"dinesh\",\"satheesh\",\"karthi\",\"karthi\"]\n",
    "print(l1.count(enames.karthi))"
   ]
  },
  {
   "cell_type": "code",
   "execution_count": null,
   "id": "cb5bbbc6-25f4-4acd-8a48-c96926dc859c",
   "metadata": {},
   "outputs": [],
   "source": []
  }
 ],
 "metadata": {
  "kernelspec": {
   "display_name": "Python 3 (ipykernel)",
   "language": "python",
   "name": "python3"
  },
  "language_info": {
   "codemirror_mode": {
    "name": "ipython",
    "version": 3
   },
   "file_extension": ".py",
   "mimetype": "text/x-python",
   "name": "python",
   "nbconvert_exporter": "python",
   "pygments_lexer": "ipython3",
   "version": "3.12.5"
  }
 },
 "nbformat": 4,
 "nbformat_minor": 5
}
