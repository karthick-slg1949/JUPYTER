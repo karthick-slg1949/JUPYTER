{
 "cells": [
  {
   "cell_type": "code",
   "execution_count": 11,
   "id": "ec7a8b9d-3246-4525-be0d-2a0d69464fc7",
   "metadata": {},
   "outputs": [
    {
     "name": "stdout",
     "output_type": "stream",
     "text": [
      "5.0\n",
      "3.3333333333333335\n"
     ]
    }
   ],
   "source": [
    "def calc(a,b):\n",
    "    print(a/b)\n",
    "calc(10,2)\n",
    "calc(10,3)"
   ]
  },
  {
   "cell_type": "code",
   "execution_count": 3,
   "id": "d340351c-d797-4f3f-82b7-3ac4381aae5d",
   "metadata": {},
   "outputs": [
    {
     "name": "stdout",
     "output_type": "stream",
     "text": [
      "5.0\n",
      "can not divide by zero\n"
     ]
    }
   ],
   "source": [
    "def testcase(func):\n",
    "    def inner(a,b):\n",
    "        if b==0:\n",
    "            print(\"can not divide by zero\")\n",
    "        else:\n",
    "            return func(a,b)\n",
    "    return inner\n",
    "@testcase\n",
    "def calc(a,b):\n",
    "    print(a/b)\n",
    "calc(10,2)\n",
    "calc(10,0)"
   ]
  },
  {
   "cell_type": "code",
   "execution_count": 14,
   "id": "734bd6be-3339-4993-ae59-6d403bcd86fc",
   "metadata": {},
   "outputs": [
    {
     "name": "stdout",
     "output_type": "stream",
     "text": [
      "home page\n",
      "about page\n",
      "login is required\n"
     ]
    }
   ],
   "source": [
    "def login_required(func):\n",
    "    def inner(name,is_login):\n",
    "        if is_login==False:\n",
    "            print('login is required')\n",
    "        else:\n",
    "            return func(name,is_login)\n",
    "    return inner\n",
    "        \n",
    "def home_page(name,is_login):\n",
    "    print('home page')\n",
    "@login_required\n",
    "def about_page(name,is_login):\n",
    "    print('about page')\n",
    "@login_required\n",
    "def order_page(name,is_login):\n",
    "    print('order page')\n",
    "home_page('karthi',False)\n",
    "about_page('karthi',True)\n",
    "order_page('karthi',False)"
   ]
  },
  {
   "cell_type": "code",
   "execution_count": 20,
   "id": "ebcc6e48-9c78-49f7-a3bc-ca71b1aaad1d",
   "metadata": {},
   "outputs": [
    {
     "data": {
      "text/plain": [
       "'Hi_HARISH'"
      ]
     },
     "execution_count": 20,
     "metadata": {},
     "output_type": "execute_result"
    }
   ],
   "source": [
    "def change_case(func):\n",
    "    def inner(name):\n",
    "        return 'Hi_'+name.upper()\n",
    "    return inner\n",
    "\n",
    "@change_case\n",
    "def display(name):\n",
    "    print(name)\n",
    "display('maharaja')\n",
    "display('harish')"
   ]
  },
  {
   "cell_type": "code",
   "execution_count": null,
   "id": "d99f9678-f3e6-441a-95fc-9f76e25b6e3a",
   "metadata": {},
   "outputs": [],
   "source": []
  }
 ],
 "metadata": {
  "kernelspec": {
   "display_name": "Python 3 (ipykernel)",
   "language": "python",
   "name": "python3"
  },
  "language_info": {
   "codemirror_mode": {
    "name": "ipython",
    "version": 3
   },
   "file_extension": ".py",
   "mimetype": "text/x-python",
   "name": "python",
   "nbconvert_exporter": "python",
   "pygments_lexer": "ipython3",
   "version": "3.12.5"
  }
 },
 "nbformat": 4,
 "nbformat_minor": 5
}
