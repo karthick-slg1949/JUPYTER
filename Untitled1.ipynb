{
 "cells": [
  {
   "cell_type": "code",
   "execution_count": 1,
   "id": "f31c1212-c345-4ccf-8f3f-76832660e739",
   "metadata": {},
   "outputs": [
    {
     "name": "stdout",
     "output_type": "stream",
     "text": [
      "<class 'int'>\n",
      "<class 'str'>\n",
      "<class 'float'>\n",
      "<class 'bool'>\n",
      "<class 'complex'>\n",
      "<class 'list'>\n",
      "<class 'tuple'>\n",
      "<class 'set'>\n",
      "<class 'dict'>\n",
      "<class 'bytes'>\n",
      "<class 'bytearray'>\n",
      "<class 'frozenset'>\n",
      "<class 'range'>\n",
      "<class 'NoneType'>\n"
     ]
    }
   ],
   "source": [
    "eid=101\n",
    "ename=\"karthick\"\n",
    "esal=20000.00\n",
    "aval=False\n",
    "a=20+50j\n",
    "loc=['svg','slg']\n",
    "color=('R','G','B')\n",
    "eids={101,102,103}\n",
    "emp={\"eid\":101,\n",
    "     \"ename\":\"dinesh\",\n",
    "     \"email\":\"rahul@gmail.com\"\n",
    "    }\n",
    "b=bytes([100,102,103,104])\n",
    "ba=bytearray([100,45,78]);\n",
    "fz=frozenset([1,2,3,4])\n",
    "r=range(10)\n",
    "\n",
    "def add():\n",
    "    pass\n",
    "\n",
    "print(type(eid))\n",
    "print(type(ename))\n",
    "print(type(esal))\n",
    "print(type(aval))\n",
    "print(type(a))\n",
    "print(type(loc))\n",
    "print(type(color))\n",
    "print(type(eids))\n",
    "print(type(emp))\n",
    "print(type(b))\n",
    "print(type(ba))\n",
    "print(type(fz))\n",
    "print(type(r))\n",
    "print(type(add()))\n"
   ]
  },
  {
   "cell_type": "code",
   "execution_count": null,
   "id": "27a83697-862c-4c73-8cca-8e78fe3cdd04",
   "metadata": {},
   "outputs": [],
   "source": []
  }
 ],
 "metadata": {
  "kernelspec": {
   "display_name": "Python 3 (ipykernel)",
   "language": "python",
   "name": "python3"
  },
  "language_info": {
   "codemirror_mode": {
    "name": "ipython",
    "version": 3
   },
   "file_extension": ".py",
   "mimetype": "text/x-python",
   "name": "python",
   "nbconvert_exporter": "python",
   "pygments_lexer": "ipython3",
   "version": "3.12.5"
  }
 },
 "nbformat": 4,
 "nbformat_minor": 5
}
