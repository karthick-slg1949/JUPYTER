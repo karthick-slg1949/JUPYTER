{
 "cells": [
  {
   "cell_type": "code",
   "execution_count": null,
   "id": "304f1ef0-8b4c-4500-afc4-2d143a51995c",
   "metadata": {},
   "outputs": [],
   "source": [
    "1.numpy"
   ]
  },
  {
   "cell_type": "code",
   "execution_count": null,
   "id": "b070f141-2c86-4b50-9f69-e6135de0a4a8",
   "metadata": {},
   "outputs": [],
   "source": [
    "2.dropna()"
   ]
  },
  {
   "cell_type": "code",
   "execution_count": null,
   "id": "9582ad31-afd2-4132-a1ed-56ccc803b2b0",
   "metadata": {},
   "outputs": [],
   "source": [
    "KDE(kernel density estimate )"
   ]
  },
  {
   "cell_type": "code",
   "execution_count": 8,
   "id": "3940150c-f799-4c6f-8a2a-7c1ba7efcacd",
   "metadata": {},
   "outputs": [
    {
     "name": "stdout",
     "output_type": "stream",
     "text": [
      "YES\n"
     ]
    }
   ],
   "source": [
    "X = 12\n",
    "if (X>10 & X<15):\n",
    "    print('YES')\n",
    "else:\n",
    "    print('No')\n",
    "    "
   ]
  },
  {
   "cell_type": "code",
   "execution_count": 5,
   "id": "d97806fe-945a-412c-809f-de33ae0b65a0",
   "metadata": {},
   "outputs": [
    {
     "name": "stdout",
     "output_type": "stream",
     "text": [
      "b\n"
     ]
    }
   ],
   "source": [
    "a=10\n",
    "b=16\n",
    "c=20\n",
    "if(a > b and a > c):\n",
    "    print(\"a\")\n",
    "elif(b > a and b > c):\n",
    "    print(\"b\")\n",
    "else:\n",
    "    print(\"c\")\n"
   ]
  },
  {
   "cell_type": "code",
   "execution_count": 7,
   "id": "cc298218-d843-4096-8f59-c7ad33b7345c",
   "metadata": {},
   "outputs": [
    {
     "name": "stdout",
     "output_type": "stream",
     "text": [
      "YES\n"
     ]
    }
   ],
   "source": [
    "1.)Define the term 'Data Wrangling' in Data Analytics.?\n",
    "Data wrangling is the process of transforming raw data into a usable format for analysis and machine learning. It's also known as data munging, scrubbing, or remediation"
   ]
  },
  {
   "cell_type": "code",
   "execution_count": 9,
   "id": "b15b3133-8aec-43a6-8de3-f3dab799562f",
   "metadata": {},
   "outputs": [
    {
     "name": "stdout",
     "output_type": "stream",
     "text": [
      "Object `dataset` not found.\n"
     ]
    }
   ],
   "source": [
    "2.)How do you treat outliers in a dataset?\n",
    "\n",
    "Identifying outliers: Use statistical methods like boxplots or standard deviation to identify outliers. Outliers are data points that are significantly different from the normal observations or patterns in a dataset"
   ]
  },
  {
   "cell_type": "code",
   "execution_count": null,
   "id": "a9c4fa6d-6076-461a-9b1f-fc9bb8df4eca",
   "metadata": {},
   "outputs": [],
   "source": [
    "3.)How would you handle missing data in a dataset?\n",
    "When dealing with missing data, data scientists can use two primary methods to solve the error: imputation or data removal. The imputation method substitutes reasonable guesses for missing data. It's most useful when the percentage of missing data is low"
   ]
  },
  {
   "cell_type": "code",
   "execution_count": null,
   "id": "ecce4679-f9d1-4983-be60-b78435fa76d2",
   "metadata": {},
   "outputs": [],
   "source": [
    "4.)What are the most commonly used Python libraries for data analysis and their\n",
    "functions?\n",
    "\n",
    "NumPy:\n",
    "\n",
    "Functions: Support for large, multi-dimensional arrays and matrices, along with a collection of mathematical functions to operate on these arrays.\n",
    "Common Usage: Numerical computations, array manipulation, and performing element-wise operations."
   ]
  },
  {
   "cell_type": "code",
   "execution_count": null,
   "id": "a93d37d2-80b6-4af7-abc4-c54772e7215d",
   "metadata": {},
   "outputs": [],
   "source": [
    "5.)How do you manipulate and aggregate data using pandas in Python?\n",
    "\n",
    "1. Importing Pandas\n",
    "2. Creating a DataFrame\n",
    "3. Data Manipulation\n",
    "4. Aggregating Data\n",
    "5. Pivot Tables\n",
    "6. Resetting Index\n",
    "7. Handling Missing Data"
   ]
  },
  {
   "cell_type": "code",
   "execution_count": 13,
   "id": "06f9fd5e-c284-4fb9-b0a0-6dc6faefee15",
   "metadata": {},
   "outputs": [
    {
     "name": "stdin",
     "output_type": "stream",
     "text": [
      "Enter a string:  e\n"
     ]
    },
    {
     "name": "stdout",
     "output_type": "stream",
     "text": [
      "YES\n"
     ]
    }
   ],
   "source": [
    "# Write a code to check if the string that the user enters starts with a vowel or not.\n",
    "# Print capital YES or NO. For example, if input = 'analytics' then, your output\n",
    "# should print 'YES'.\n",
    "\n",
    "user_input = input(\"Enter a string: \")\n",
    "\n",
    "vowels = ('a', 'e', 'i', 'o', 'u', 'A', 'E', 'I', 'O', 'U')\n",
    "\n",
    "if user_input.startswith(vowels):\n",
    "    print(\"YES\")\n",
    "else:\n",
    "    print(\"NO\")\n"
   ]
  },
  {
   "cell_type": "code",
   "execution_count": 14,
   "id": "f3e31752-e109-4bdb-8c86-460101948e55",
   "metadata": {},
   "outputs": [
    {
     "name": "stdin",
     "output_type": "stream",
     "text": [
      "Enter a string:  t\n"
     ]
    },
    {
     "name": "stdout",
     "output_type": "stream",
     "text": [
      "NO\n"
     ]
    }
   ],
   "source": [
    "user_input = input(\"Enter a string: \")\n",
    "\n",
    "vowels = ('a', 'e', 'i', 'o', 'u', 'A', 'E', 'I', 'O', 'U')\n",
    "\n",
    "if user_input.startswith(vowels):\n",
    "    print(\"YES\")\n",
    "else:\n",
    "    print(\"NO\")"
   ]
  },
  {
   "cell_type": "code",
   "execution_count": null,
   "id": "991e4a16-2236-43e2-a66e-f3f28da70c3f",
   "metadata": {},
   "outputs": [],
   "source": [
    "# Given a single positive integer n, create a NumPy array of size (n x n) with\n",
    "# alternating ones and zeros to form a checkerboard pattern.\n",
    "\n",
    "import numpy as np\n",
    "\n",
    "def create_checkerboard(n):\n",
    "    checkerboard = np.zeros((n, n), dtype=int)\n",
    "    \n",
    "    checkerboard[1::2, ::2] = 1  \n",
    "    checkerboard[::2, 1::2] = 1   \n",
    "    \n",
    "    return checkerboard\n",
    "\n",
    "n = int(input(\"Enter a positive integer n: \"))\n",
    "checkerboard_array = create_checkerboard(n)\n",
    "print(checkerboard_array)\n"
   ]
  },
  {
   "cell_type": "code",
   "execution_count": null,
   "id": "3b06c4e2-53e5-48e5-bf21-5b9086c4e953",
   "metadata": {},
   "outputs": [],
   "source": []
  }
 ],
 "metadata": {
  "kernelspec": {
   "display_name": "Python 3 (ipykernel)",
   "language": "python",
   "name": "python3"
  },
  "language_info": {
   "codemirror_mode": {
    "name": "ipython",
    "version": 3
   },
   "file_extension": ".py",
   "mimetype": "text/x-python",
   "name": "python",
   "nbconvert_exporter": "python",
   "pygments_lexer": "ipython3",
   "version": "3.12.5"
  }
 },
 "nbformat": 4,
 "nbformat_minor": 5
}
