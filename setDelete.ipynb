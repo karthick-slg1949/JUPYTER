{
 "cells": [
  {
   "cell_type": "code",
   "execution_count": 2,
   "id": "cdb6d85e-c11a-4edc-b99d-659be4f89258",
   "metadata": {},
   "outputs": [
    {
     "name": "stdout",
     "output_type": "stream",
     "text": [
      "{10, 20, 30}\n"
     ]
    }
   ],
   "source": [
    "s1={10,20,30,40}\n",
    "s1.pop()\n",
    "print(s1)\n",
    "#what is set pop method: remove random element in the set"
   ]
  },
  {
   "cell_type": "code",
   "execution_count": 5,
   "id": "67d4b6a0-40fe-4670-9ff3-448dd36eabce",
   "metadata": {},
   "outputs": [
    {
     "name": "stdout",
     "output_type": "stream",
     "text": [
      "{102, 103, 104, 105}\n"
     ]
    }
   ],
   "source": [
    "s1={101,102,103,104,105}\n",
    "s1.remove(101)\n",
    "print(s1)"
   ]
  },
  {
   "cell_type": "code",
   "execution_count": 6,
   "id": "5d38b0b4-7405-4bec-8e21-adcf5063faa1",
   "metadata": {},
   "outputs": [
    {
     "name": "stdout",
     "output_type": "stream",
     "text": [
      "{102, 103, 104, 105}\n"
     ]
    }
   ],
   "source": [
    "s1={101,102,103,104,105}\n",
    "s1.discard(101)\n",
    "print(s1)"
   ]
  },
  {
   "cell_type": "code",
   "execution_count": 7,
   "id": "344049c6-e112-47bd-b8aa-2ee61820485c",
   "metadata": {},
   "outputs": [
    {
     "name": "stdout",
     "output_type": "stream",
     "text": [
      "set()\n"
     ]
    }
   ],
   "source": [
    "s1={101,102,103,104,105}\n",
    "s1.clear()\n",
    "print(s1)"
   ]
  },
  {
   "cell_type": "code",
   "execution_count": 9,
   "id": "219149c5-daf1-4239-80a2-46c0963d6d76",
   "metadata": {},
   "outputs": [
    {
     "name": "stdout",
     "output_type": "stream",
     "text": [
      "{40, 10, 50, 20, 60, 30}\n",
      "{40, 10, 50, 20, 60, 30}\n"
     ]
    }
   ],
   "source": [
    "s1={10,20,30,40}\n",
    "s2={30,40,50,60}\n",
    "print(s1.union(s2)) #{40, 10, 50, 20, 60, 30}\n",
    "print(s1 | s2) #{40, 10, 50, 20, 60, 30}"
   ]
  },
  {
   "cell_type": "code",
   "execution_count": 14,
   "id": "c0d40083-b884-4607-94cd-7aa747d94b21",
   "metadata": {},
   "outputs": [
    {
     "name": "stdout",
     "output_type": "stream",
     "text": [
      "{10, 20}\n",
      "{10, 20}\n"
     ]
    }
   ],
   "source": [
    "s1={10,20,30,40}\n",
    "s2={30,40,50,60}\n",
    "print(s1.difference(s2))#{10, 20}\n",
    "print(s1 - s2)#{10, 20}"
   ]
  },
  {
   "cell_type": "code",
   "execution_count": 12,
   "id": "c4a777fc-bade-4e99-ad54-36f76358eb86",
   "metadata": {},
   "outputs": [
    {
     "name": "stdout",
     "output_type": "stream",
     "text": [
      "{40, 30}\n",
      "{40, 30}\n"
     ]
    }
   ],
   "source": [
    "s1={10,20,30,40}\n",
    "s2={30,40,50,60}\n",
    "print(s1.intersection(s2))#{40, 30}\n",
    "print(s1 & s2)#{40, 30}"
   ]
  },
  {
   "cell_type": "code",
   "execution_count": 16,
   "id": "c171f599-6cd6-4172-b9a7-2d4306f31e6f",
   "metadata": {},
   "outputs": [
    {
     "name": "stdout",
     "output_type": "stream",
     "text": [
      "{10, 50, 20, 60}\n",
      "{10, 50, 20, 60}\n"
     ]
    }
   ],
   "source": [
    "s1={10,20,30,40}\n",
    "s2={30,40,50,60}\n",
    "print(s1.symmetric_difference(s2))#{10, 50, 20, 60}\n",
    "print(s1 ^ s2)#{10, 50, 20, 60}"
   ]
  },
  {
   "cell_type": "code",
   "execution_count": null,
   "id": "b5ce47ef-de30-48e0-a5aa-b7ea249ed1dd",
   "metadata": {},
   "outputs": [],
   "source": []
  },
  {
   "cell_type": "code",
   "execution_count": null,
   "id": "3705dcda-a277-4199-959c-da26fad4581a",
   "metadata": {},
   "outputs": [],
   "source": []
  }
 ],
 "metadata": {
  "kernelspec": {
   "display_name": "Python 3 (ipykernel)",
   "language": "python",
   "name": "python3"
  },
  "language_info": {
   "codemirror_mode": {
    "name": "ipython",
    "version": 3
   },
   "file_extension": ".py",
   "mimetype": "text/x-python",
   "name": "python",
   "nbconvert_exporter": "python",
   "pygments_lexer": "ipython3",
   "version": "3.12.5"
  }
 },
 "nbformat": 4,
 "nbformat_minor": 5
}
