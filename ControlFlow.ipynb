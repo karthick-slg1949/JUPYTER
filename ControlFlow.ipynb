{
 "cells": [
  {
   "cell_type": "code",
   "execution_count": 47,
   "id": "3f66feb6-a698-47ba-bb39-44390cd196d6",
   "metadata": {},
   "outputs": [
    {
     "name": "stdin",
     "output_type": "stream",
     "text": [
      "Enter the Number: 5\n"
     ]
    },
    {
     "name": "stdout",
     "output_type": "stream",
     "text": [
      "Always Single\n"
     ]
    }
   ],
   "source": [
    "#Conditional Flow Statement using Relational OP\n",
    "sal=int(input(\"Enter the Number:\"))\n",
    "if sal > 50000:\n",
    "    print(\"Eligible for marriage\")\n",
    "elif sal >25000:\n",
    "    print(\"Eligible For Love\")\n",
    "else:\n",
    "    print(\"Always Single\")\n"
   ]
  },
  {
   "cell_type": "code",
   "execution_count": 62,
   "id": "9d1468db-3ace-4250-a749-4d9296bbe90a",
   "metadata": {},
   "outputs": [
    {
     "name": "stdin",
     "output_type": "stream",
     "text": [
      "Enter the Mark: 35\n"
     ]
    },
    {
     "name": "stdout",
     "output_type": "stream",
     "text": [
      "Pass\n"
     ]
    }
   ],
   "source": [
    "mark=int(input(\"Enter the Mark:\"))\n",
    "if(mark==35):\n",
    "    print(\"Pass\")\n",
    "\n",
    "elif(mark >= 35 and mark <= 60):\n",
    "    print(\"Average\")\n",
    "\n",
    "elif(mark >= 61 and mark <= 100):\n",
    "    print(\"Good\")\n",
    "\n",
    "else:\n",
    "    print(\"fail\")"
   ]
  },
  {
   "cell_type": "code",
   "execution_count": 74,
   "id": "ed600869-5121-40ba-871b-a0bfdb271c2f",
   "metadata": {},
   "outputs": [
    {
     "name": "stdin",
     "output_type": "stream",
     "text": [
      "Enter the number: 1000\n"
     ]
    },
    {
     "name": "stdout",
     "output_type": "stream",
     "text": [
      "This is four digit number\n"
     ]
    }
   ],
   "source": [
    "#given number is three digit number or not\n",
    "num=int(input(\"Enter the number:\"))\n",
    "if(num >=100 and num <=999):\n",
    "    print(\"This is three digit Number\")\n",
    "\n",
    "elif(num >=999 and num <=9999):\n",
    "    print(\"This is four digit number\")\n",
    "\n",
    "else:\n",
    "    print(\"This is not three or four digit number\")"
   ]
  },
  {
   "cell_type": "code",
   "execution_count": 79,
   "id": "be59bcd1-cd8f-4f81-bb8d-e4d73637fee4",
   "metadata": {},
   "outputs": [
    {
     "name": "stdin",
     "output_type": "stream",
     "text": [
      "Enter the number: 1111\n"
     ]
    },
    {
     "name": "stdout",
     "output_type": "stream",
     "text": [
      "This is not a multiple of three\n"
     ]
    }
   ],
   "source": [
    "#Given the number is Multiple of three\n",
    "num=int(input(\"Enter the number:\"))\n",
    "if(num%3==0):\n",
    "    print(\"This number is multiple of three \")\n",
    "\n",
    "else:\n",
    "    print(\"This is not a multiple of three\")"
   ]
  },
  {
   "cell_type": "code",
   "execution_count": 81,
   "id": "5adaa3c5-a5e1-420f-bb75-b490fc726ce9",
   "metadata": {},
   "outputs": [
    {
     "name": "stdout",
     "output_type": "stream",
     "text": [
      "101\n",
      "102\n",
      "103\n",
      "104\n"
     ]
    }
   ],
   "source": [
    "eids=[101,102,103,104]\n",
    "\n",
    "#for ele in sequence:\n",
    " #   pass\n",
    "\n",
    "for eid in eids:\n",
    "    print(eid)\n"
   ]
  },
  {
   "cell_type": "code",
   "execution_count": 85,
   "id": "e3064ffc-f169-4750-bb1e-cd44af12fd6d",
   "metadata": {},
   "outputs": [
    {
     "name": "stdout",
     "output_type": "stream",
     "text": [
      "0\n",
      "1\n",
      "2\n",
      "3\n",
      "4\n",
      "5\n",
      "6\n",
      "7\n",
      "8\n",
      "9\n"
     ]
    }
   ],
   "source": [
    "for x in range(10):\n",
    "    print(x)"
   ]
  },
  {
   "cell_type": "code",
   "execution_count": 94,
   "id": "38a2a296-7cbf-4eec-be81-ab78507c426c",
   "metadata": {},
   "outputs": [
    {
     "name": "stdout",
     "output_type": "stream",
     "text": [
      "karthi\n",
      "dinesh\n",
      "satheesh\n"
     ]
    }
   ],
   "source": [
    "ename=\"Rahul\"\n",
    "enames=[\"karthi\",\"dinesh\",\"satheesh\"]\n",
    "t=(10,20,30)\n",
    "eids={101,102,103}\n",
    "emp={\n",
    "    \"id\":101,\n",
    "    \"name\":\"karthi\",\n",
    "    \"sal\":450000\n",
    "}\n",
    "for ena in enames:\n",
    "    print(ena)\n",
    "    "
   ]
  },
  {
   "cell_type": "code",
   "execution_count": 102,
   "id": "60d1a1fa-8fcc-4a6e-b735-6d5f66a05539",
   "metadata": {},
   "outputs": [
    {
     "name": "stdout",
     "output_type": "stream",
     "text": [
      "1\n",
      "2\n",
      "3\n",
      "4\n",
      "5\n",
      "6\n",
      "7\n",
      "8\n",
      "9\n",
      "10\n"
     ]
    }
   ],
   "source": [
    "#print 1 to 10\n",
    "#print 1 to 100\n",
    "#print 5 to 100\n",
    "#print 100 to 50\n",
    "for x in range(1,11,1):\n",
    "    print(x)\n"
   ]
  },
  {
   "cell_type": "code",
   "execution_count": 101,
   "id": "5f05507a-3c6c-4023-a54f-ba84421b4863",
   "metadata": {},
   "outputs": [
    {
     "name": "stdout",
     "output_type": "stream",
     "text": [
      "1\n",
      "3\n",
      "5\n",
      "7\n",
      "9\n",
      "11\n",
      "13\n",
      "15\n",
      "17\n",
      "19\n",
      "21\n",
      "23\n",
      "25\n",
      "27\n",
      "29\n",
      "31\n",
      "33\n",
      "35\n",
      "37\n",
      "39\n",
      "41\n",
      "43\n",
      "45\n",
      "47\n",
      "49\n",
      "51\n",
      "53\n",
      "55\n",
      "57\n",
      "59\n",
      "61\n",
      "63\n",
      "65\n",
      "67\n",
      "69\n",
      "71\n",
      "73\n",
      "75\n",
      "77\n",
      "79\n",
      "81\n",
      "83\n",
      "85\n",
      "87\n",
      "89\n",
      "91\n",
      "93\n",
      "95\n",
      "97\n",
      "99\n"
     ]
    }
   ],
   "source": [
    "for x in range(1,101,1):\n",
    "    print(x)"
   ]
  },
  {
   "cell_type": "code",
   "execution_count": 106,
   "id": "509f064b-2eb3-4ed7-ac45-f272215c42d9",
   "metadata": {},
   "outputs": [
    {
     "name": "stdout",
     "output_type": "stream",
     "text": [
      "100\n",
      "99\n",
      "98\n",
      "97\n",
      "96\n",
      "95\n",
      "94\n",
      "93\n",
      "92\n",
      "91\n",
      "90\n",
      "89\n",
      "88\n",
      "87\n",
      "86\n",
      "85\n",
      "84\n",
      "83\n",
      "82\n",
      "81\n",
      "80\n",
      "79\n",
      "78\n",
      "77\n",
      "76\n",
      "75\n",
      "74\n",
      "73\n",
      "72\n",
      "71\n",
      "70\n",
      "69\n",
      "68\n",
      "67\n",
      "66\n",
      "65\n",
      "64\n",
      "63\n",
      "62\n",
      "61\n",
      "60\n",
      "59\n",
      "58\n",
      "57\n",
      "56\n",
      "55\n",
      "54\n",
      "53\n",
      "52\n",
      "51\n"
     ]
    }
   ],
   "source": [
    "for x in range(100,50,-1):\n",
    "    print(x)"
   ]
  },
  {
   "cell_type": "code",
   "execution_count": 114,
   "id": "c2228ced-020a-430e-a5e2-cde84f3a05e3",
   "metadata": {},
   "outputs": [
    {
     "name": "stdout",
     "output_type": "stream",
     "text": [
      "1 * 5 = 5\n",
      "2 * 5 = 10\n",
      "3 * 5 = 15\n",
      "4 * 5 = 20\n",
      "5 * 5 = 25\n",
      "6 * 5 = 30\n",
      "7 * 5 = 35\n",
      "8 * 5 = 40\n",
      "9 * 5 = 45\n",
      "10 * 5 = 50\n"
     ]
    }
   ],
   "source": [
    "for i in range(1,11,1):\n",
    "    print(i,\"*\",5,\"=\",5*i)"
   ]
  },
  {
   "cell_type": "code",
   "execution_count": 123,
   "id": "8cd0eacf-719a-4c6c-9efb-992c057c68e8",
   "metadata": {},
   "outputs": [
    {
     "name": "stdout",
     "output_type": "stream",
     "text": [
      "0\t2\t4\t6\t8\t10\t12\t14\t16\t18\t"
     ]
    }
   ],
   "source": [
    "#horizontal line\n",
    "for i  in range(0,19,2):\n",
    "    print(i,end=\"\\t\") "
   ]
  },
  {
   "cell_type": "code",
   "execution_count": 124,
   "id": "893e06c3-c37d-4d77-a15d-78f8f03a7aa4",
   "metadata": {},
   "outputs": [
    {
     "name": "stdout",
     "output_type": "stream",
     "text": [
      "0\n",
      "2\n",
      "4\n",
      "6\n",
      "8\n",
      "10\n",
      "12\n",
      "14\n",
      "16\n",
      "18\n"
     ]
    }
   ],
   "source": [
    "#Vertical line\n",
    "for i in range(0,20,2):\n",
    "    print(i)"
   ]
  },
  {
   "cell_type": "code",
   "execution_count": 126,
   "id": "047d50d7-b9f0-4330-8f80-872f17430b62",
   "metadata": {},
   "outputs": [
    {
     "name": "stdout",
     "output_type": "stream",
     "text": [
      "id\n",
      "name\n",
      "sal\n"
     ]
    }
   ],
   "source": [
    "emp={\n",
    "    \"id\":101,\n",
    "    \"name\":\"karthi\",\n",
    "    \"sal\":450000\n",
    "}\n",
    "for key in emp:\n",
    "    print(key)"
   ]
  },
  {
   "cell_type": "code",
   "execution_count": 129,
   "id": "82a664fa-8cd1-409a-8858-d1e80ac2a590",
   "metadata": {},
   "outputs": [
    {
     "name": "stdout",
     "output_type": "stream",
     "text": [
      "id : 101\n",
      "name : karthi\n",
      "sal : 450000\n"
     ]
    }
   ],
   "source": [
    "#how to print the dict values\n",
    "emp={\n",
    "    \"id\":101,\n",
    "    \"name\":\"karthi\",\n",
    "    \"sal\":450000\n",
    "}\n",
    "for key,value in emp.items():\n",
    "    print(key,\":\",value)"
   ]
  },
  {
   "cell_type": "code",
   "execution_count": null,
   "id": "69145b32-d7b6-4f71-9216-d87f7db71e06",
   "metadata": {},
   "outputs": [],
   "source": []
  }
 ],
 "metadata": {
  "kernelspec": {
   "display_name": "Python 3 (ipykernel)",
   "language": "python",
   "name": "python3"
  },
  "language_info": {
   "codemirror_mode": {
    "name": "ipython",
    "version": 3
   },
   "file_extension": ".py",
   "mimetype": "text/x-python",
   "name": "python",
   "nbconvert_exporter": "python",
   "pygments_lexer": "ipython3",
   "version": "3.12.5"
  }
 },
 "nbformat": 4,
 "nbformat_minor": 5
}
