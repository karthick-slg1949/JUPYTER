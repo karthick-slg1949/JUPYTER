{
 "cells": [
  {
   "cell_type": "code",
   "execution_count": 1,
   "id": "e4ed7f9e-16fc-4dc2-bb53-084ff1766ce9",
   "metadata": {},
   "outputs": [
    {
     "name": "stdout",
     "output_type": "stream",
     "text": [
      "<class 'dict'>\n"
     ]
    }
   ],
   "source": [
    "#create\n",
    "d1={}\n",
    "print(type(d1))"
   ]
  },
  {
   "cell_type": "code",
   "execution_count": 8,
   "id": "1d384b1e-cb1c-4650-94a0-990b56437273",
   "metadata": {},
   "outputs": [
    {
     "name": "stdout",
     "output_type": "stream",
     "text": [
      "{'eid': 101, 'ename': 'karthick', 'esal': 34000, 'avail': True}\n",
      "101\n"
     ]
    }
   ],
   "source": [
    "emp={\n",
    "    'eid':101,\n",
    "    'ename':\"karthick\",\n",
    "    'esal':34000,\n",
    "    'avail':True\n",
    "}\n",
    "print(emp)\n",
    "print(emp.get('eid'))"
   ]
  },
  {
   "cell_type": "code",
   "execution_count": 7,
   "id": "db903f94-37a8-4100-a67c-f70fad333f36",
   "metadata": {},
   "outputs": [
    {
     "name": "stdout",
     "output_type": "stream",
     "text": [
      "{'eid': 104}\n"
     ]
    }
   ],
   "source": [
    "emp={\n",
    "    'eid':101,\n",
    "    'eid':102,\n",
    "    'eid':103,\n",
    "    'eid':104,\n",
    "}\n",
    "print(emp)"
   ]
  },
  {
   "cell_type": "code",
   "execution_count": 10,
   "id": "e7946521-dc92-4ebf-a796-b709c09d73a4",
   "metadata": {},
   "outputs": [
    {
     "name": "stdout",
     "output_type": "stream",
     "text": [
      "101\n"
     ]
    }
   ],
   "source": [
    "emp={\n",
    "    'eid':101,\n",
    "    'ename':\"karthick\",\n",
    "    'esal':34000,\n",
    "    'avail':True\n",
    "}\n",
    "print(emp['eid'])"
   ]
  },
  {
   "cell_type": "code",
   "execution_count": 11,
   "id": "6ec2f0d6-cd50-4191-ad53-f9a9d80d9cf2",
   "metadata": {},
   "outputs": [
    {
     "name": "stdout",
     "output_type": "stream",
     "text": [
      "101\n",
      "karthick\n",
      "34000\n",
      "True\n"
     ]
    }
   ],
   "source": [
    "#print all dict value?\n",
    "emp={\n",
    "    'eid':101,\n",
    "    'ename':\"karthick\",\n",
    "    'esal':34000,\n",
    "    'avail':True\n",
    "}\n",
    "print(emp['eid'])\n",
    "print(emp['ename'])\n",
    "print(emp['esal'])\n",
    "print(emp['avail'])"
   ]
  },
  {
   "cell_type": "code",
   "execution_count": 13,
   "id": "da15e0ac-d79f-4aaa-bfcd-864e80ea39a9",
   "metadata": {},
   "outputs": [
    {
     "name": "stdout",
     "output_type": "stream",
     "text": [
      "101\n",
      "karthick\n",
      "34000\n",
      "True\n"
     ]
    }
   ],
   "source": [
    "#print all dict value using get method?\n",
    "emp={\n",
    "    'eid':101,\n",
    "    'ename':\"karthick\",\n",
    "    'esal':34000,\n",
    "    'avail':True\n",
    "}\n",
    "print(emp.get('eid'))\n",
    "print(emp.get('ename'))\n",
    "print(emp.get('esal'))\n",
    "print(emp.get('avail'))"
   ]
  },
  {
   "cell_type": "code",
   "execution_count": 16,
   "id": "414f9505-59ee-4331-bd5b-6349c5d11158",
   "metadata": {},
   "outputs": [
    {
     "name": "stdout",
     "output_type": "stream",
     "text": [
      "dict_keys(['eid', 'ename', 'esal', 'avail'])\n",
      "dict_values([101, 'karthick', 34000, True])\n",
      "dict_items([('eid', 101), ('ename', 'karthick'), ('esal', 34000), ('avail', True)])\n"
     ]
    }
   ],
   "source": [
    "emp={\n",
    "    'eid':101,\n",
    "    'ename':\"karthick\",\n",
    "    'esal':34000,\n",
    "    'avail':True\n",
    "}\n",
    "print(emp.keys())\n",
    "print(emp.values())\n",
    "print(emp.items())"
   ]
  },
  {
   "cell_type": "code",
   "execution_count": 17,
   "id": "cc16585c-2e3c-40a5-8c96-e5ff3d527cb7",
   "metadata": {},
   "outputs": [
    {
     "name": "stdout",
     "output_type": "stream",
     "text": [
      "eid\n",
      "ename\n",
      "esal\n",
      "avail\n"
     ]
    }
   ],
   "source": [
    "#print key?\n",
    "emp={\n",
    "    'eid':101,\n",
    "    'ename':\"karthick\",\n",
    "    'esal':34000,\n",
    "    'avail':True\n",
    "}\n",
    "for  key in emp.keys():\n",
    "    print(key)"
   ]
  },
  {
   "cell_type": "code",
   "execution_count": 18,
   "id": "5c2ccad5-8a96-4fdf-b053-377fdb742607",
   "metadata": {},
   "outputs": [
    {
     "name": "stdout",
     "output_type": "stream",
     "text": [
      "101\n",
      "karthick\n",
      "34000\n",
      "True\n"
     ]
    }
   ],
   "source": [
    "#print value?\n",
    "emp={\n",
    "    'eid':101,\n",
    "    'ename':\"karthick\",\n",
    "    'esal':34000,\n",
    "    'avail':True\n",
    "}\n",
    "for value in emp.values():\n",
    "    print(value)"
   ]
  },
  {
   "cell_type": "code",
   "execution_count": 19,
   "id": "20e45c04-10d4-4d9a-b633-74d202854523",
   "metadata": {},
   "outputs": [
    {
     "name": "stdout",
     "output_type": "stream",
     "text": [
      "eid 101\n",
      "ename karthick\n",
      "esal 34000\n",
      "avail True\n"
     ]
    }
   ],
   "source": [
    "#print key and value?\n",
    "emp={\n",
    "    'eid':101,\n",
    "    'ename':\"karthick\",\n",
    "    'esal':34000,\n",
    "    'avail':True\n",
    "}\n",
    "for key,value in emp.items():\n",
    "    print(key,value)"
   ]
  },
  {
   "cell_type": "code",
   "execution_count": null,
   "id": "cd57c17c-9eab-4e96-899b-1807562354a1",
   "metadata": {},
   "outputs": [],
   "source": []
  }
 ],
 "metadata": {
  "kernelspec": {
   "display_name": "Python 3 (ipykernel)",
   "language": "python",
   "name": "python3"
  },
  "language_info": {
   "codemirror_mode": {
    "name": "ipython",
    "version": 3
   },
   "file_extension": ".py",
   "mimetype": "text/x-python",
   "name": "python",
   "nbconvert_exporter": "python",
   "pygments_lexer": "ipython3",
   "version": "3.12.5"
  }
 },
 "nbformat": 4,
 "nbformat_minor": 5
}
