{
 "cells": [
  {
   "cell_type": "code",
   "execution_count": 2,
   "id": "e3ce4788-6c46-4c24-9292-08caa3fbfa61",
   "metadata": {},
   "outputs": [
    {
     "name": "stdout",
     "output_type": "stream",
     "text": [
      "2912011681136\n"
     ]
    }
   ],
   "source": [
    "from abc import ABC\n",
    "class Bank(ABC):\n",
    "    def cal_tax(self):\n",
    "        pass\n",
    "b=Bank()\n",
    "print(id(b))"
   ]
  },
  {
   "cell_type": "code",
   "execution_count": 6,
   "id": "270fbb22-ecf0-4594-8e2c-dab20b1fc523",
   "metadata": {},
   "outputs": [
    {
     "ename": "TypeError",
     "evalue": "Can't instantiate abstract class Bank without an implementation for abstract method 'cal_tax'",
     "output_type": "error",
     "traceback": [
      "\u001b[1;31m---------------------------------------------------------------------------\u001b[0m",
      "\u001b[1;31mTypeError\u001b[0m                                 Traceback (most recent call last)",
      "Cell \u001b[1;32mIn[6], line 6\u001b[0m\n\u001b[0;32m      3\u001b[0m     \u001b[38;5;129m@abstractmethod\u001b[39m\n\u001b[0;32m      4\u001b[0m     \u001b[38;5;28;01mdef\u001b[39;00m \u001b[38;5;21mcal_tax\u001b[39m(\u001b[38;5;28mself\u001b[39m):\n\u001b[0;32m      5\u001b[0m         \u001b[38;5;28;01mpass\u001b[39;00m\n\u001b[1;32m----> 6\u001b[0m b\u001b[38;5;241m=\u001b[39m\u001b[43mBank\u001b[49m\u001b[43m(\u001b[49m\u001b[43m)\u001b[49m\n\u001b[0;32m      7\u001b[0m \u001b[38;5;28mprint\u001b[39m(\u001b[38;5;28mid\u001b[39m(b))\n",
      "\u001b[1;31mTypeError\u001b[0m: Can't instantiate abstract class Bank without an implementation for abstract method 'cal_tax'"
     ]
    }
   ],
   "source": [
    "from abc import *\n",
    "class Bank(ABC):\n",
    "    @abstractmethod\n",
    "    def cal_tax(self):\n",
    "        pass\n",
    "b=Bank()\n",
    "print(id(b))"
   ]
  },
  {
   "cell_type": "code",
   "execution_count": 8,
   "id": "ae666fc4-06d0-452c-b6d5-f34cec32460f",
   "metadata": {},
   "outputs": [
    {
     "name": "stdout",
     "output_type": "stream",
     "text": [
      "789490\n"
     ]
    }
   ],
   "source": [
    "from abc import *\n",
    "\n",
    "class Bank(ABC):\n",
    "    @abstractmethod\n",
    "    def cal_tax(self):\n",
    "        pass\n",
    "class Account(Bank):\n",
    "    min_bal=500\n",
    "    def __init__(self,id,name,amount):\n",
    "        self.acc_id=id\n",
    "        self.acc_name=name\n",
    "        self.acc_bal=amount\n",
    "    def cal_tax(self):\n",
    "        return self.acc_bal - self.min_bal\n",
    "    \n",
    "a1=Account(101,\"karthick\",789990)\n",
    "print(a1.cal_tax())"
   ]
  },
  {
   "cell_type": "code",
   "execution_count": 9,
   "id": "ab23fe83-bdab-4aea-9745-9aad97949674",
   "metadata": {},
   "outputs": [],
   "source": [
    "class Employee:\n",
    "    def cal_tax(self):\n",
    "        print(\"Employee Class - Call Tax\")\n",
    "class Account:\n",
    "    def cal_tax(self):\n",
    "        print(\"Account Class - Call Tax\")\n",
    "class User:\n",
    "    def cal_tax(self):\n",
    "        print(\"User class -Call Tax\")"
   ]
  },
  {
   "cell_type": "code",
   "execution_count": null,
   "id": "42977143-33b4-49e3-80fd-e7cd842ed39e",
   "metadata": {},
   "outputs": [],
   "source": [
    "from poly imoprt *"
   ]
  }
 ],
 "metadata": {
  "kernelspec": {
   "display_name": "Python 3 (ipykernel)",
   "language": "python",
   "name": "python3"
  },
  "language_info": {
   "codemirror_mode": {
    "name": "ipython",
    "version": 3
   },
   "file_extension": ".py",
   "mimetype": "text/x-python",
   "name": "python",
   "nbconvert_exporter": "python",
   "pygments_lexer": "ipython3",
   "version": "3.12.5"
  }
 },
 "nbformat": 4,
 "nbformat_minor": 5
}
