{
 "cells": [
  {
   "cell_type": "code",
   "execution_count": 2,
   "id": "b8afe564-1864-4724-80e0-2ed1752c68cd",
   "metadata": {},
   "outputs": [],
   "source": [
    "#single inheritance\n",
    "class parent:\n",
    "    pass\n",
    "class Child(parent):\n",
    "    pass\n",
    "obj=Child()"
   ]
  },
  {
   "cell_type": "code",
   "execution_count": 5,
   "id": "b0417e52-4357-4553-848d-18ebd13bdfd0",
   "metadata": {},
   "outputs": [
    {
     "name": "stdout",
     "output_type": "stream",
     "text": [
      "Parent class - m1 method\n",
      "Parent class - m2 method\n",
      "Child class - m3 method\n"
     ]
    }
   ],
   "source": [
    "class parent:\n",
    "    def m1(self):\n",
    "        print(\"Parent class - m1 method\")\n",
    "    def m2(self):\n",
    "        print(\"Parent class - m2 method\")\n",
    "class Child(parent):\n",
    "    def m3(self):\n",
    "        print(\"Child class - m3 method\")\n",
    "obj=Child()\n",
    "obj.m1()\n",
    "obj.m2()\n",
    "obj.m3()"
   ]
  },
  {
   "cell_type": "code",
   "execution_count": 6,
   "id": "b9898493-a251-4c44-b6fa-39c925dfc715",
   "metadata": {},
   "outputs": [
    {
     "name": "stdout",
     "output_type": "stream",
     "text": [
      "Parent class - m1 method\n",
      "Parent class - m2 method\n",
      "Child class - m3 method\n"
     ]
    }
   ],
   "source": [
    "class Parent:\n",
    "    def m1(self):\n",
    "        print(\"Parent class - m1 method\")\n",
    "    def m2(self):\n",
    "        print(\"Parent class - m2 method\")\n",
    "class Child(Parent):\n",
    "    def m3(self):\n",
    "        print(\"Child class - m3 method\")\n",
    "obj=Child()\n",
    "obj.m1()\n",
    "obj.m2()\n",
    "obj.m3()"
   ]
  },
  {
   "cell_type": "code",
   "execution_count": 7,
   "id": "6fc546fe-094c-426a-9b0e-1b0560345fc1",
   "metadata": {},
   "outputs": [],
   "source": [
    "class GP:\n",
    "    pass \n",
    "class Parent(GP):\n",
    "    pass\n",
    "class Child(Parent):\n",
    "    pass\n",
    "obj=Child()"
   ]
  },
  {
   "cell_type": "code",
   "execution_count": 8,
   "id": "97f81106-9414-4b46-9243-732b6c91f931",
   "metadata": {},
   "outputs": [
    {
     "name": "stdout",
     "output_type": "stream",
     "text": [
      "GP-class m1 method\n",
      "GP - class m2 method\n",
      "Parent - class m3 method\n",
      "Child - class m4 method\n"
     ]
    }
   ],
   "source": [
    "class GP:\n",
    "    def m1(self):\n",
    "        print(\"GP-class m1 method\")\n",
    "    def m2(self):\n",
    "        print(\"GP - class m2 method\")\n",
    "class parent(GP):\n",
    "    def m3(self):\n",
    "        print(\"Parent - class m3 method\")\n",
    "class child(parent):\n",
    "    def m4(self):\n",
    "        print(\"Child - class m4 method\")\n",
    "obj=child()\n",
    "obj.m1()\n",
    "obj.m2()\n",
    "obj.m3()\n",
    "obj.m4()"
   ]
  },
  {
   "cell_type": "code",
   "execution_count": 10,
   "id": "86212e8d-3624-4170-8be8-c57748bfc1bb",
   "metadata": {},
   "outputs": [],
   "source": [
    "class parent1:\n",
    "    pass\n",
    "class parent2:\n",
    "    pass\n",
    "class Child(parent1,parent2):\n",
    "    pass\n",
    "obj=child()"
   ]
  },
  {
   "cell_type": "code",
   "execution_count": null,
   "id": "d7929c63-39cf-4404-a710-48ca97743c7b",
   "metadata": {},
   "outputs": [],
   "source": []
  }
 ],
 "metadata": {
  "kernelspec": {
   "display_name": "Python 3 (ipykernel)",
   "language": "python",
   "name": "python3"
  },
  "language_info": {
   "codemirror_mode": {
    "name": "ipython",
    "version": 3
   },
   "file_extension": ".py",
   "mimetype": "text/x-python",
   "name": "python",
   "nbconvert_exporter": "python",
   "pygments_lexer": "ipython3",
   "version": "3.12.5"
  }
 },
 "nbformat": 4,
 "nbformat_minor": 5
}
