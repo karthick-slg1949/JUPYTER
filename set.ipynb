{
 "cells": [
  {
   "cell_type": "code",
   "execution_count": 1,
   "id": "ff35a01d-84ce-4ad0-b51d-282f35a31335",
   "metadata": {},
   "outputs": [
    {
     "name": "stdout",
     "output_type": "stream",
     "text": [
      "<class 'dict'>\n"
     ]
    }
   ],
   "source": [
    "s={}\n",
    "print(type(s))"
   ]
  },
  {
   "cell_type": "code",
   "execution_count": 2,
   "id": "53f15650-46f2-4929-8125-b2dae6d565c7",
   "metadata": {},
   "outputs": [
    {
     "name": "stdout",
     "output_type": "stream",
     "text": [
      "{100, 70, 40, 10, 80, 50, 20, 90, 60, 30}\n"
     ]
    }
   ],
   "source": [
    "s1={10,20,30,40,50,60,70,80,90,100}\n",
    "print(s1)"
   ]
  },
  {
   "cell_type": "code",
   "execution_count": 3,
   "id": "26727a89-51db-4a78-b24a-c799b2f2b51c",
   "metadata": {},
   "outputs": [
    {
     "name": "stdout",
     "output_type": "stream",
     "text": [
      "{True, 100, 70, 40, 'karthick', 10, 80, 50, 20, 90, 60, 30}\n"
     ]
    }
   ],
   "source": [
    "s1={10,20,30,40,50,True,\"karthick\",60,70,80,90,100}\n",
    "print(s1)"
   ]
  },
  {
   "cell_type": "code",
   "execution_count": 4,
   "id": "9495fd20-18cc-481d-bf03-af573079f2c1",
   "metadata": {
    "scrolled": true
   },
   "outputs": [
    {
     "name": "stdout",
     "output_type": "stream",
     "text": [
      "104\n",
      "101\n",
      "102\n",
      "103\n"
     ]
    }
   ],
   "source": [
    "eids={101,102,103,104}\n",
    "for eid in eids:\n",
    "    print(eid)"
   ]
  },
  {
   "cell_type": "code",
   "execution_count": 11,
   "id": "8ceac63b-04fa-4773-a9c0-bb12fe7a722c",
   "metadata": {},
   "outputs": [
    {
     "name": "stdout",
     "output_type": "stream",
     "text": [
      "{101, 102, 103, 104, 105}\n"
     ]
    }
   ],
   "source": [
    "eids={101,102,103,104}\n",
    "eid={105}\n",
    "eids.update(eid)\n",
    "print(eids)\n"
   ]
  },
  {
   "cell_type": "code",
   "execution_count": 9,
   "id": "5e5eabed-617d-4d9a-ac26-f6267526750d",
   "metadata": {},
   "outputs": [
    {
     "name": "stdout",
     "output_type": "stream",
     "text": [
      "{70, 40, 10, 80, 50, 20, 60, 30}\n"
     ]
    }
   ],
   "source": [
    "s1={10,20,30,40}\n",
    "s2={50,60,70,80}\n",
    "s1.update(s2)\n",
    "print(s1)"
   ]
  },
  {
   "cell_type": "code",
   "execution_count": 12,
   "id": "e0f19fa3-21d4-4842-a624-0c37f4cb8be9",
   "metadata": {},
   "outputs": [],
   "source": [
    "s1={101,102,103,104,105}\n",
    "r1=range(10)\n",
    "l1=[10,20,30,40]\n",
    "t1=(1,2,3,4)\n",
    "s1.update(r1,l1,t1)"
   ]
  },
  {
   "cell_type": "code",
   "execution_count": 14,
   "id": "4db93eb1-4cf8-49b6-8e62-d294182e3677",
   "metadata": {},
   "outputs": [
    {
     "name": "stdout",
     "output_type": "stream",
     "text": [
      "{'r', 'a', 40, 10, 'u', 'l', 20, 'h', 30}\n"
     ]
    }
   ],
   "source": [
    "s1={10,20,30,40}\n",
    "s1.update(\"rahul\")\n",
    "print(s1)"
   ]
  },
  {
   "cell_type": "code",
   "execution_count": null,
   "id": "4539a522-bbd6-41ee-8554-184585ebb6b8",
   "metadata": {},
   "outputs": [],
   "source": []
  }
 ],
 "metadata": {
  "kernelspec": {
   "display_name": "Python 3 (ipykernel)",
   "language": "python",
   "name": "python3"
  },
  "language_info": {
   "codemirror_mode": {
    "name": "ipython",
    "version": 3
   },
   "file_extension": ".py",
   "mimetype": "text/x-python",
   "name": "python",
   "nbconvert_exporter": "python",
   "pygments_lexer": "ipython3",
   "version": "3.12.5"
  }
 },
 "nbformat": 4,
 "nbformat_minor": 5
}
