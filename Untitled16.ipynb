{
 "cells": [
  {
   "cell_type": "code",
   "execution_count": 1,
   "id": "590dbf0e-20bf-431e-8942-88f4853f5650",
   "metadata": {},
   "outputs": [
    {
     "name": "stdout",
     "output_type": "stream",
     "text": [
      "11\n"
     ]
    }
   ],
   "source": [
    "#Position Arguments\n",
    "def calc(b,a) :\n",
    "    print(a-b)\n",
    "calc(23,34)"
   ]
  },
  {
   "cell_type": "code",
   "execution_count": 2,
   "id": "a6515c22-9ad9-4e9f-abf5-1abc4be332a9",
   "metadata": {},
   "outputs": [
    {
     "name": "stdout",
     "output_type": "stream",
     "text": [
      "69\n",
      "36\n"
     ]
    }
   ],
   "source": [
    "#Default Arguments\n",
    "def calc(a,b,c = 1) :\n",
    "    print(a+b+c)\n",
    "calc(12,23,34)\n",
    "calc(12,23)"
   ]
  },
  {
   "cell_type": "code",
   "execution_count": 3,
   "id": "7d0441f6-1e79-4330-9600-19573bec3564",
   "metadata": {},
   "outputs": [
    {
     "ename": "SyntaxError",
     "evalue": "invalid non-printable character U+00A0 (1220992154.py, line 4)",
     "output_type": "error",
     "traceback": [
      "\u001b[1;36m  Cell \u001b[1;32mIn[3], line 4\u001b[1;36m\u001b[0m\n\u001b[1;33m    calc(a=100 ,b=200)\u001b[0m\n\u001b[1;37m              ^\u001b[0m\n\u001b[1;31mSyntaxError\u001b[0m\u001b[1;31m:\u001b[0m invalid non-printable character U+00A0\n"
     ]
    }
   ],
   "source": [
    "#Keyword Arguments\n",
    "def calc(b,a) :\n",
    "    print(a-b)\n",
    "calc(a=100 ,b=200)"
   ]
  },
  {
   "cell_type": "code",
   "execution_count": 4,
   "id": "66d74119-09ba-48fe-b3c3-0a0787575999",
   "metadata": {},
   "outputs": [
    {
     "name": "stdout",
     "output_type": "stream",
     "text": [
      "()\n",
      "(10, 20)\n",
      "(10, 20, 30)\n",
      "(10, 20, 30, 40)\n",
      "(10, 20, 30, 40, 50)\n"
     ]
    }
   ],
   "source": [
    "#Variable Length Arguments\n",
    "def calc( * a) :\n",
    "    print(a)\n",
    "calc()\n",
    "calc(10,20)\n",
    "calc(10,20,30)\n",
    "calc(10,20,30,40)\n",
    "calc(10,20,30,40,50)"
   ]
  },
  {
   "cell_type": "code",
   "execution_count": 8,
   "id": "4653c66d-b719-4d84-83d4-ab147e585e27",
   "metadata": {},
   "outputs": [
    {
     "name": "stdout",
     "output_type": "stream",
     "text": [
      "outer function\n",
      "inner function\n"
     ]
    }
   ],
   "source": [
    "def outer():\n",
    "    print(\"outer function\")\n",
    "    def inner():\n",
    "        print(\"inner function\")\n",
    "\n",
    "outer()\n",
    "inner()"
   ]
  },
  {
   "cell_type": "code",
   "execution_count": null,
   "id": "28065ba3-6731-4bde-a738-bb3b1a02ac44",
   "metadata": {},
   "outputs": [],
   "source": []
  }
 ],
 "metadata": {
  "kernelspec": {
   "display_name": "Python 3 (ipykernel)",
   "language": "python",
   "name": "python3"
  },
  "language_info": {
   "codemirror_mode": {
    "name": "ipython",
    "version": 3
   },
   "file_extension": ".py",
   "mimetype": "text/x-python",
   "name": "python",
   "nbconvert_exporter": "python",
   "pygments_lexer": "ipython3",
   "version": "3.12.5"
  }
 },
 "nbformat": 4,
 "nbformat_minor": 5
}
