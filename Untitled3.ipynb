{
 "cells": [
  {
   "cell_type": "code",
   "execution_count": 20,
   "id": "decc7c1f-e6b9-40bb-b5f3-db0ababe7f30",
   "metadata": {},
   "outputs": [
    {
     "name": "stdout",
     "output_type": "stream",
     "text": [
      "14\n",
      "<class 'int'>\n",
      "0b1110\n",
      "0o16\n",
      "0xe\n"
     ]
    }
   ],
   "source": [
    "a=14\n",
    "print(a)\n",
    "print(type(a))\n",
    "print(bin(a))\n",
    "print(oct(a))\n",
    "print(hex(a))"
   ]
  },
  {
   "cell_type": "code",
   "execution_count": 21,
   "id": "900c21ba-c802-4682-83f4-9b41b7ec43ea",
   "metadata": {},
   "outputs": [
    {
     "name": "stdout",
     "output_type": "stream",
     "text": [
      "14\n",
      "14\n",
      "14\n",
      "14\n"
     ]
    }
   ],
   "source": [
    "a=14\n",
    "b=0b1110\n",
    "c=0o16\n",
    "d=0xe\n",
    "print(a)\n",
    "print(b)\n",
    "print(c)\n",
    "print(d)"
   ]
  },
  {
   "cell_type": "code",
   "execution_count": 22,
   "id": "b3ebecbc-3bc2-4939-820c-4a50e040f5cf",
   "metadata": {},
   "outputs": [
    {
     "name": "stdout",
     "output_type": "stream",
     "text": [
      "450000\n"
     ]
    }
   ],
   "source": [
    "esal=450000.45\n",
    "esal=int(esal)\n",
    "print(esal)"
   ]
  },
  {
   "cell_type": "code",
   "execution_count": 30,
   "id": "d1939989-af2b-409a-8d95-b6910a4a0c4b",
   "metadata": {},
   "outputs": [
    {
     "name": "stdout",
     "output_type": "stream",
     "text": [
      "ten\n"
     ]
    }
   ],
   "source": [
    "esal=\"ten\"\n",
    "esal=str(esal)\n",
    "print(esal)"
   ]
  },
  {
   "cell_type": "code",
   "execution_count": 32,
   "id": "5722124a-1485-46d9-9fe9-31cc28dc5585",
   "metadata": {},
   "outputs": [
    {
     "name": "stdout",
     "output_type": "stream",
     "text": [
      "<class 'str'>\n",
      "450000\n"
     ]
    }
   ],
   "source": [
    "esal=\"450000\"\n",
    "print(type(esal))\n",
    "esal=int(esal)\n",
    "print(esal)"
   ]
  },
  {
   "cell_type": "code",
   "execution_count": 81,
   "id": "719f6ceb-ee04-4cf9-ad89-e0bfb6a7725d",
   "metadata": {},
   "outputs": [
    {
     "name": "stdin",
     "output_type": "stream",
     "text": [
      "Tamil :  56\n",
      "English : 67\n"
     ]
    },
    {
     "name": "stdout",
     "output_type": "stream",
     "text": [
      "123\n"
     ]
    }
   ],
   "source": [
    "a=int(input(\"Tamil : \"))\n",
    "b=int(input(\"English :\"))\n",
    "t=(a+b)\n",
    "print(t)"
   ]
  },
  {
   "cell_type": "code",
   "execution_count": 76,
   "id": "e34a119f-86ac-41e3-860f-6dd622a9c0aa",
   "metadata": {},
   "outputs": [
    {
     "name": "stdout",
     "output_type": "stream",
     "text": [
      "10,20,30,\n",
      "10\n",
      "20\n",
      "30\n"
     ]
    }
   ],
   "source": [
    "a=10\n",
    "b=20\n",
    "c=30\n",
    "\n",
    "#print(a)\n",
    "#print(b)\n",
    "#print(c)\n",
    "\n",
    "#end with comma\n",
    "print(a,end=\",\")\n",
    "print(b,end=\",\")\n",
    "print(c,end=\",\")\n",
    "print()\n",
    "\n",
    "#end with new line\n",
    "print(a,end=\"\\n\")\n",
    "print(b,end=\"\\n\")\n",
    "print(c,end=\"\\n\")\n",
    "\n"
   ]
  },
  {
   "cell_type": "code",
   "execution_count": 91,
   "id": "c7a2d390-c481-456b-9284-47c9624b96f2",
   "metadata": {},
   "outputs": [
    {
     "name": "stdout",
     "output_type": "stream",
     "text": [
      "True\n",
      "True\n",
      "True\n"
     ]
    }
   ],
   "source": [
    "a=10\n",
    "b=\"hi\"\n",
    "c=10.001\n",
    "print(bool(a))\n",
    "print(bool(b))\n",
    "print(bool(c))"
   ]
  },
  {
   "cell_type": "code",
   "execution_count": 95,
   "id": "b19ae34e-468f-4787-a475-f7a6a34d2cfa",
   "metadata": {},
   "outputs": [
    {
     "ename": "SyntaxError",
     "evalue": "incomplete input (366584108.py, line 1)",
     "output_type": "error",
     "traceback": [
      "\u001b[1;36m  Cell \u001b[1;32mIn[95], line 1\u001b[1;36m\u001b[0m\n\u001b[1;33m    def add():\u001b[0m\n\u001b[1;37m              ^\u001b[0m\n\u001b[1;31mSyntaxError\u001b[0m\u001b[1;31m:\u001b[0m incomplete input\n"
     ]
    }
   ],
   "source": [
    "def add():\n"
   ]
  },
  {
   "cell_type": "code",
   "execution_count": null,
   "id": "482bb94d-e4ef-4e6e-9758-d89eb5c09b85",
   "metadata": {},
   "outputs": [],
   "source": []
  }
 ],
 "metadata": {
  "kernelspec": {
   "display_name": "Python 3 (ipykernel)",
   "language": "python",
   "name": "python3"
  },
  "language_info": {
   "codemirror_mode": {
    "name": "ipython",
    "version": 3
   },
   "file_extension": ".py",
   "mimetype": "text/x-python",
   "name": "python",
   "nbconvert_exporter": "python",
   "pygments_lexer": "ipython3",
   "version": "3.12.5"
  }
 },
 "nbformat": 4,
 "nbformat_minor": 5
}
