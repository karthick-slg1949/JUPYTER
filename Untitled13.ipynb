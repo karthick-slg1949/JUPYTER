{
 "cells": [
  {
   "cell_type": "code",
   "execution_count": 1,
   "id": "aac92f88-762f-4f58-8097-1ee7e42e6cfd",
   "metadata": {},
   "outputs": [],
   "source": [
    "#Create\n",
    "emp={\n",
    "    \"eid\":101,\n",
    "    \"ename\":\"karthick\",\n",
    "    \"esal\":450000\n",
    "}"
   ]
  },
  {
   "cell_type": "code",
   "execution_count": 8,
   "id": "14936e3b-3c16-418e-9f5a-04796666a02a",
   "metadata": {},
   "outputs": [
    {
     "name": "stdout",
     "output_type": "stream",
     "text": [
      "101\n",
      "karthick\n",
      "450000\n",
      "101\n"
     ]
    },
    {
     "ename": "KeyError",
     "evalue": "'loc'",
     "output_type": "error",
     "traceback": [
      "\u001b[1;31m---------------------------------------------------------------------------\u001b[0m",
      "\u001b[1;31mKeyError\u001b[0m                                  Traceback (most recent call last)",
      "Cell \u001b[1;32mIn[8], line 12\u001b[0m\n\u001b[0;32m     10\u001b[0m \u001b[38;5;28mprint\u001b[39m(emp[\u001b[38;5;124m'\u001b[39m\u001b[38;5;124mesal\u001b[39m\u001b[38;5;124m'\u001b[39m])\n\u001b[0;32m     11\u001b[0m \u001b[38;5;28mprint\u001b[39m(emp\u001b[38;5;241m.\u001b[39mget(\u001b[38;5;124m'\u001b[39m\u001b[38;5;124meid\u001b[39m\u001b[38;5;124m'\u001b[39m)) \u001b[38;5;66;03m#return vales of specified key\u001b[39;00m\n\u001b[1;32m---> 12\u001b[0m \u001b[38;5;28mprint\u001b[39m(\u001b[43memp\u001b[49m\u001b[43m[\u001b[49m\u001b[38;5;124;43m'\u001b[39;49m\u001b[38;5;124;43mloc\u001b[39;49m\u001b[38;5;124;43m'\u001b[39;49m\u001b[43m]\u001b[49m)\n",
      "\u001b[1;31mKeyError\u001b[0m: 'loc'"
     ]
    }
   ],
   "source": [
    "#how to access or read dict  valuees?\n",
    "#using get method\n",
    "emp={\n",
    "    \"eid\":101,\n",
    "    \"ename\":\"karthick\",\n",
    "    \"esal\":450000\n",
    "}\n",
    "print(emp['eid'])\n",
    "print(emp['ename'])\n",
    "print(emp['esal'])\n",
    "print(emp.get('eid')) #return vales of specified key\n",
    "print(emp['loc'])#key error\n"
   ]
  },
  {
   "cell_type": "code",
   "execution_count": null,
   "id": "e6e5eda9-8de1-4080-9b48-debed38361f1",
   "metadata": {},
   "outputs": [],
   "source": [
    "employees={\n",
    "    \"rahul\":450000,\n",
    "    \"karthi\":900000,\n",
    "    \"navin\":650000\n",
    "}"
   ]
  }
 ],
 "metadata": {
  "kernelspec": {
   "display_name": "Python 3 (ipykernel)",
   "language": "python",
   "name": "python3"
  },
  "language_info": {
   "codemirror_mode": {
    "name": "ipython",
    "version": 3
   },
   "file_extension": ".py",
   "mimetype": "text/x-python",
   "name": "python",
   "nbconvert_exporter": "python",
   "pygments_lexer": "ipython3",
   "version": "3.12.5"
  }
 },
 "nbformat": 4,
 "nbformat_minor": 5
}
